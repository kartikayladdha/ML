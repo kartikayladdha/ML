{
  "nbformat": 4,
  "nbformat_minor": 0,
  "metadata": {
    "kernelspec": {
      "display_name": "Python 3",
      "language": "python",
      "name": "python3"
    },
    "language_info": {
      "codemirror_mode": {
        "name": "ipython",
        "version": 3
      },
      "file_extension": ".py",
      "mimetype": "text/x-python",
      "name": "python",
      "nbconvert_exporter": "python",
      "pygments_lexer": "ipython3",
      "version": "3.7.6"
    },
    "toc": {
      "base_numbering": 1,
      "nav_menu": {},
      "number_sections": true,
      "sideBar": true,
      "skip_h1_title": true,
      "title_cell": "Table of Contents",
      "title_sidebar": "Contents",
      "toc_cell": false,
      "toc_position": {},
      "toc_section_display": true,
      "toc_window_display": false
    },
    "colab": {
      "name": "ML_Lab9.ipynb",
      "provenance": [],
      "include_colab_link": true
    }
  },
  "cells": [
    {
      "cell_type": "markdown",
      "metadata": {
        "id": "view-in-github",
        "colab_type": "text"
      },
      "source": [
        "<a href=\"https://colab.research.google.com/github/kartikayladdha/ML/blob/master/Assignments/ML_Lab9.ipynb\" target=\"_parent\"><img src=\"https://colab.research.google.com/assets/colab-badge.svg\" alt=\"Open In Colab\"/></a>"
      ]
    },
    {
      "cell_type": "markdown",
      "metadata": {
        "id": "4l5hE9YdLxKA"
      },
      "source": [
        "## Importing The Standad Packages"
      ]
    },
    {
      "cell_type": "code",
      "metadata": {
        "id": "IN2WhCzMLxKB"
      },
      "source": [
        "import pandas as pd \n",
        "import numpy as np\n",
        "import matplotlib.pyplot as plt\n",
        "import seaborn as sns\n",
        "\n",
        "from sklearn.model_selection import train_test_split, cross_val_score, GridSearchCV, RandomizedSearchCV\n",
        "from sklearn.preprocessing import StandardScaler\n",
        "from sklearn.linear_model import LinearRegression, ridge_regression\n",
        "from sklearn.ensemble import AdaBoostRegressor\n",
        "from sklearn.metrics import r2_score, mean_squared_error\n",
        "\n",
        "from keras import layers\n",
        "from keras import models\n",
        "from keras.callbacks import EarlyStopping\n",
        "from livelossplot import PlotLossesKeras\n",
        "\n",
        "import warnings\n",
        "warnings.filterwarnings('ignore')"
      ],
      "execution_count": null,
      "outputs": []
    },
    {
      "cell_type": "markdown",
      "metadata": {
        "id": "f1eUIlpPLxKF"
      },
      "source": [
        "## EDA"
      ]
    },
    {
      "cell_type": "markdown",
      "metadata": {
        "id": "IzQ_pNKpLxKF"
      },
      "source": [
        "### Reading the Data"
      ]
    },
    {
      "cell_type": "code",
      "metadata": {
        "id": "4PHYOVOYLxKG",
        "outputId": "0e3150e5-a5c3-4c5c-a5a9-e065a6c9f694"
      },
      "source": [
        "data = pd.read_csv('../Exercise 9/Absenteeism_at_work_AAA/Absenteeism_at_work.csv', sep = ';')\n",
        "data.head()"
      ],
      "execution_count": null,
      "outputs": [
        {
          "output_type": "execute_result",
          "data": {
            "text/html": [
              "<div>\n",
              "<style scoped>\n",
              "    .dataframe tbody tr th:only-of-type {\n",
              "        vertical-align: middle;\n",
              "    }\n",
              "\n",
              "    .dataframe tbody tr th {\n",
              "        vertical-align: top;\n",
              "    }\n",
              "\n",
              "    .dataframe thead th {\n",
              "        text-align: right;\n",
              "    }\n",
              "</style>\n",
              "<table border=\"1\" class=\"dataframe\">\n",
              "  <thead>\n",
              "    <tr style=\"text-align: right;\">\n",
              "      <th></th>\n",
              "      <th>ID</th>\n",
              "      <th>Reason for absence</th>\n",
              "      <th>Month of absence</th>\n",
              "      <th>Day of the week</th>\n",
              "      <th>Seasons</th>\n",
              "      <th>Transportation expense</th>\n",
              "      <th>Distance from Residence to Work</th>\n",
              "      <th>Service time</th>\n",
              "      <th>Age</th>\n",
              "      <th>Work load Average/day</th>\n",
              "      <th>...</th>\n",
              "      <th>Disciplinary failure</th>\n",
              "      <th>Education</th>\n",
              "      <th>Son</th>\n",
              "      <th>Social drinker</th>\n",
              "      <th>Social smoker</th>\n",
              "      <th>Pet</th>\n",
              "      <th>Weight</th>\n",
              "      <th>Height</th>\n",
              "      <th>Body mass index</th>\n",
              "      <th>Absenteeism time in hours</th>\n",
              "    </tr>\n",
              "  </thead>\n",
              "  <tbody>\n",
              "    <tr>\n",
              "      <th>0</th>\n",
              "      <td>11</td>\n",
              "      <td>26</td>\n",
              "      <td>7</td>\n",
              "      <td>3</td>\n",
              "      <td>1</td>\n",
              "      <td>289</td>\n",
              "      <td>36</td>\n",
              "      <td>13</td>\n",
              "      <td>33</td>\n",
              "      <td>239.554</td>\n",
              "      <td>...</td>\n",
              "      <td>0</td>\n",
              "      <td>1</td>\n",
              "      <td>2</td>\n",
              "      <td>1</td>\n",
              "      <td>0</td>\n",
              "      <td>1</td>\n",
              "      <td>90</td>\n",
              "      <td>172</td>\n",
              "      <td>30</td>\n",
              "      <td>4</td>\n",
              "    </tr>\n",
              "    <tr>\n",
              "      <th>1</th>\n",
              "      <td>36</td>\n",
              "      <td>0</td>\n",
              "      <td>7</td>\n",
              "      <td>3</td>\n",
              "      <td>1</td>\n",
              "      <td>118</td>\n",
              "      <td>13</td>\n",
              "      <td>18</td>\n",
              "      <td>50</td>\n",
              "      <td>239.554</td>\n",
              "      <td>...</td>\n",
              "      <td>1</td>\n",
              "      <td>1</td>\n",
              "      <td>1</td>\n",
              "      <td>1</td>\n",
              "      <td>0</td>\n",
              "      <td>0</td>\n",
              "      <td>98</td>\n",
              "      <td>178</td>\n",
              "      <td>31</td>\n",
              "      <td>0</td>\n",
              "    </tr>\n",
              "    <tr>\n",
              "      <th>2</th>\n",
              "      <td>3</td>\n",
              "      <td>23</td>\n",
              "      <td>7</td>\n",
              "      <td>4</td>\n",
              "      <td>1</td>\n",
              "      <td>179</td>\n",
              "      <td>51</td>\n",
              "      <td>18</td>\n",
              "      <td>38</td>\n",
              "      <td>239.554</td>\n",
              "      <td>...</td>\n",
              "      <td>0</td>\n",
              "      <td>1</td>\n",
              "      <td>0</td>\n",
              "      <td>1</td>\n",
              "      <td>0</td>\n",
              "      <td>0</td>\n",
              "      <td>89</td>\n",
              "      <td>170</td>\n",
              "      <td>31</td>\n",
              "      <td>2</td>\n",
              "    </tr>\n",
              "    <tr>\n",
              "      <th>3</th>\n",
              "      <td>7</td>\n",
              "      <td>7</td>\n",
              "      <td>7</td>\n",
              "      <td>5</td>\n",
              "      <td>1</td>\n",
              "      <td>279</td>\n",
              "      <td>5</td>\n",
              "      <td>14</td>\n",
              "      <td>39</td>\n",
              "      <td>239.554</td>\n",
              "      <td>...</td>\n",
              "      <td>0</td>\n",
              "      <td>1</td>\n",
              "      <td>2</td>\n",
              "      <td>1</td>\n",
              "      <td>1</td>\n",
              "      <td>0</td>\n",
              "      <td>68</td>\n",
              "      <td>168</td>\n",
              "      <td>24</td>\n",
              "      <td>4</td>\n",
              "    </tr>\n",
              "    <tr>\n",
              "      <th>4</th>\n",
              "      <td>11</td>\n",
              "      <td>23</td>\n",
              "      <td>7</td>\n",
              "      <td>5</td>\n",
              "      <td>1</td>\n",
              "      <td>289</td>\n",
              "      <td>36</td>\n",
              "      <td>13</td>\n",
              "      <td>33</td>\n",
              "      <td>239.554</td>\n",
              "      <td>...</td>\n",
              "      <td>0</td>\n",
              "      <td>1</td>\n",
              "      <td>2</td>\n",
              "      <td>1</td>\n",
              "      <td>0</td>\n",
              "      <td>1</td>\n",
              "      <td>90</td>\n",
              "      <td>172</td>\n",
              "      <td>30</td>\n",
              "      <td>2</td>\n",
              "    </tr>\n",
              "  </tbody>\n",
              "</table>\n",
              "<p>5 rows × 21 columns</p>\n",
              "</div>"
            ],
            "text/plain": [
              "   ID  Reason for absence  Month of absence  Day of the week  Seasons  \\\n",
              "0  11                  26                 7                3        1   \n",
              "1  36                   0                 7                3        1   \n",
              "2   3                  23                 7                4        1   \n",
              "3   7                   7                 7                5        1   \n",
              "4  11                  23                 7                5        1   \n",
              "\n",
              "   Transportation expense  Distance from Residence to Work  Service time  Age  \\\n",
              "0                     289                               36            13   33   \n",
              "1                     118                               13            18   50   \n",
              "2                     179                               51            18   38   \n",
              "3                     279                                5            14   39   \n",
              "4                     289                               36            13   33   \n",
              "\n",
              "   Work load Average/day   ...  Disciplinary failure  Education  Son  \\\n",
              "0                 239.554  ...                     0          1    2   \n",
              "1                 239.554  ...                     1          1    1   \n",
              "2                 239.554  ...                     0          1    0   \n",
              "3                 239.554  ...                     0          1    2   \n",
              "4                 239.554  ...                     0          1    2   \n",
              "\n",
              "   Social drinker  Social smoker  Pet  Weight  Height  Body mass index  \\\n",
              "0               1              0    1      90     172               30   \n",
              "1               1              0    0      98     178               31   \n",
              "2               1              0    0      89     170               31   \n",
              "3               1              1    0      68     168               24   \n",
              "4               1              0    1      90     172               30   \n",
              "\n",
              "   Absenteeism time in hours  \n",
              "0                          4  \n",
              "1                          0  \n",
              "2                          2  \n",
              "3                          4  \n",
              "4                          2  \n",
              "\n",
              "[5 rows x 21 columns]"
            ]
          },
          "metadata": {
            "tags": []
          },
          "execution_count": 2
        }
      ]
    },
    {
      "cell_type": "markdown",
      "metadata": {
        "id": "DBN4dAX1LxKJ"
      },
      "source": [
        "### Checkign The General Information About the Dataset"
      ]
    },
    {
      "cell_type": "code",
      "metadata": {
        "id": "UTvbVIeVLxKJ",
        "outputId": "bb0a6d2c-c095-4ddc-ff12-50d1629cd065"
      },
      "source": [
        "data.describe()"
      ],
      "execution_count": null,
      "outputs": [
        {
          "output_type": "execute_result",
          "data": {
            "text/html": [
              "<div>\n",
              "<style scoped>\n",
              "    .dataframe tbody tr th:only-of-type {\n",
              "        vertical-align: middle;\n",
              "    }\n",
              "\n",
              "    .dataframe tbody tr th {\n",
              "        vertical-align: top;\n",
              "    }\n",
              "\n",
              "    .dataframe thead th {\n",
              "        text-align: right;\n",
              "    }\n",
              "</style>\n",
              "<table border=\"1\" class=\"dataframe\">\n",
              "  <thead>\n",
              "    <tr style=\"text-align: right;\">\n",
              "      <th></th>\n",
              "      <th>ID</th>\n",
              "      <th>Reason for absence</th>\n",
              "      <th>Month of absence</th>\n",
              "      <th>Day of the week</th>\n",
              "      <th>Seasons</th>\n",
              "      <th>Transportation expense</th>\n",
              "      <th>Distance from Residence to Work</th>\n",
              "      <th>Service time</th>\n",
              "      <th>Age</th>\n",
              "      <th>Work load Average/day</th>\n",
              "      <th>...</th>\n",
              "      <th>Disciplinary failure</th>\n",
              "      <th>Education</th>\n",
              "      <th>Son</th>\n",
              "      <th>Social drinker</th>\n",
              "      <th>Social smoker</th>\n",
              "      <th>Pet</th>\n",
              "      <th>Weight</th>\n",
              "      <th>Height</th>\n",
              "      <th>Body mass index</th>\n",
              "      <th>Absenteeism time in hours</th>\n",
              "    </tr>\n",
              "  </thead>\n",
              "  <tbody>\n",
              "    <tr>\n",
              "      <th>count</th>\n",
              "      <td>740.000000</td>\n",
              "      <td>740.000000</td>\n",
              "      <td>740.000000</td>\n",
              "      <td>740.000000</td>\n",
              "      <td>740.000000</td>\n",
              "      <td>740.000000</td>\n",
              "      <td>740.000000</td>\n",
              "      <td>740.000000</td>\n",
              "      <td>740.000000</td>\n",
              "      <td>740.000000</td>\n",
              "      <td>...</td>\n",
              "      <td>740.000000</td>\n",
              "      <td>740.000000</td>\n",
              "      <td>740.000000</td>\n",
              "      <td>740.000000</td>\n",
              "      <td>740.000000</td>\n",
              "      <td>740.000000</td>\n",
              "      <td>740.000000</td>\n",
              "      <td>740.000000</td>\n",
              "      <td>740.000000</td>\n",
              "      <td>740.000000</td>\n",
              "    </tr>\n",
              "    <tr>\n",
              "      <th>mean</th>\n",
              "      <td>18.017568</td>\n",
              "      <td>19.216216</td>\n",
              "      <td>6.324324</td>\n",
              "      <td>3.914865</td>\n",
              "      <td>2.544595</td>\n",
              "      <td>221.329730</td>\n",
              "      <td>29.631081</td>\n",
              "      <td>12.554054</td>\n",
              "      <td>36.450000</td>\n",
              "      <td>271.490235</td>\n",
              "      <td>...</td>\n",
              "      <td>0.054054</td>\n",
              "      <td>1.291892</td>\n",
              "      <td>1.018919</td>\n",
              "      <td>0.567568</td>\n",
              "      <td>0.072973</td>\n",
              "      <td>0.745946</td>\n",
              "      <td>79.035135</td>\n",
              "      <td>172.114865</td>\n",
              "      <td>26.677027</td>\n",
              "      <td>6.924324</td>\n",
              "    </tr>\n",
              "    <tr>\n",
              "      <th>std</th>\n",
              "      <td>11.021247</td>\n",
              "      <td>8.433406</td>\n",
              "      <td>3.436287</td>\n",
              "      <td>1.421675</td>\n",
              "      <td>1.111831</td>\n",
              "      <td>66.952223</td>\n",
              "      <td>14.836788</td>\n",
              "      <td>4.384873</td>\n",
              "      <td>6.478772</td>\n",
              "      <td>39.058116</td>\n",
              "      <td>...</td>\n",
              "      <td>0.226277</td>\n",
              "      <td>0.673238</td>\n",
              "      <td>1.098489</td>\n",
              "      <td>0.495749</td>\n",
              "      <td>0.260268</td>\n",
              "      <td>1.318258</td>\n",
              "      <td>12.883211</td>\n",
              "      <td>6.034995</td>\n",
              "      <td>4.285452</td>\n",
              "      <td>13.330998</td>\n",
              "    </tr>\n",
              "    <tr>\n",
              "      <th>min</th>\n",
              "      <td>1.000000</td>\n",
              "      <td>0.000000</td>\n",
              "      <td>0.000000</td>\n",
              "      <td>2.000000</td>\n",
              "      <td>1.000000</td>\n",
              "      <td>118.000000</td>\n",
              "      <td>5.000000</td>\n",
              "      <td>1.000000</td>\n",
              "      <td>27.000000</td>\n",
              "      <td>205.917000</td>\n",
              "      <td>...</td>\n",
              "      <td>0.000000</td>\n",
              "      <td>1.000000</td>\n",
              "      <td>0.000000</td>\n",
              "      <td>0.000000</td>\n",
              "      <td>0.000000</td>\n",
              "      <td>0.000000</td>\n",
              "      <td>56.000000</td>\n",
              "      <td>163.000000</td>\n",
              "      <td>19.000000</td>\n",
              "      <td>0.000000</td>\n",
              "    </tr>\n",
              "    <tr>\n",
              "      <th>25%</th>\n",
              "      <td>9.000000</td>\n",
              "      <td>13.000000</td>\n",
              "      <td>3.000000</td>\n",
              "      <td>3.000000</td>\n",
              "      <td>2.000000</td>\n",
              "      <td>179.000000</td>\n",
              "      <td>16.000000</td>\n",
              "      <td>9.000000</td>\n",
              "      <td>31.000000</td>\n",
              "      <td>244.387000</td>\n",
              "      <td>...</td>\n",
              "      <td>0.000000</td>\n",
              "      <td>1.000000</td>\n",
              "      <td>0.000000</td>\n",
              "      <td>0.000000</td>\n",
              "      <td>0.000000</td>\n",
              "      <td>0.000000</td>\n",
              "      <td>69.000000</td>\n",
              "      <td>169.000000</td>\n",
              "      <td>24.000000</td>\n",
              "      <td>2.000000</td>\n",
              "    </tr>\n",
              "    <tr>\n",
              "      <th>50%</th>\n",
              "      <td>18.000000</td>\n",
              "      <td>23.000000</td>\n",
              "      <td>6.000000</td>\n",
              "      <td>4.000000</td>\n",
              "      <td>3.000000</td>\n",
              "      <td>225.000000</td>\n",
              "      <td>26.000000</td>\n",
              "      <td>13.000000</td>\n",
              "      <td>37.000000</td>\n",
              "      <td>264.249000</td>\n",
              "      <td>...</td>\n",
              "      <td>0.000000</td>\n",
              "      <td>1.000000</td>\n",
              "      <td>1.000000</td>\n",
              "      <td>1.000000</td>\n",
              "      <td>0.000000</td>\n",
              "      <td>0.000000</td>\n",
              "      <td>83.000000</td>\n",
              "      <td>170.000000</td>\n",
              "      <td>25.000000</td>\n",
              "      <td>3.000000</td>\n",
              "    </tr>\n",
              "    <tr>\n",
              "      <th>75%</th>\n",
              "      <td>28.000000</td>\n",
              "      <td>26.000000</td>\n",
              "      <td>9.000000</td>\n",
              "      <td>5.000000</td>\n",
              "      <td>4.000000</td>\n",
              "      <td>260.000000</td>\n",
              "      <td>50.000000</td>\n",
              "      <td>16.000000</td>\n",
              "      <td>40.000000</td>\n",
              "      <td>294.217000</td>\n",
              "      <td>...</td>\n",
              "      <td>0.000000</td>\n",
              "      <td>1.000000</td>\n",
              "      <td>2.000000</td>\n",
              "      <td>1.000000</td>\n",
              "      <td>0.000000</td>\n",
              "      <td>1.000000</td>\n",
              "      <td>89.000000</td>\n",
              "      <td>172.000000</td>\n",
              "      <td>31.000000</td>\n",
              "      <td>8.000000</td>\n",
              "    </tr>\n",
              "    <tr>\n",
              "      <th>max</th>\n",
              "      <td>36.000000</td>\n",
              "      <td>28.000000</td>\n",
              "      <td>12.000000</td>\n",
              "      <td>6.000000</td>\n",
              "      <td>4.000000</td>\n",
              "      <td>388.000000</td>\n",
              "      <td>52.000000</td>\n",
              "      <td>29.000000</td>\n",
              "      <td>58.000000</td>\n",
              "      <td>378.884000</td>\n",
              "      <td>...</td>\n",
              "      <td>1.000000</td>\n",
              "      <td>4.000000</td>\n",
              "      <td>4.000000</td>\n",
              "      <td>1.000000</td>\n",
              "      <td>1.000000</td>\n",
              "      <td>8.000000</td>\n",
              "      <td>108.000000</td>\n",
              "      <td>196.000000</td>\n",
              "      <td>38.000000</td>\n",
              "      <td>120.000000</td>\n",
              "    </tr>\n",
              "  </tbody>\n",
              "</table>\n",
              "<p>8 rows × 21 columns</p>\n",
              "</div>"
            ],
            "text/plain": [
              "               ID  Reason for absence  Month of absence  Day of the week  \\\n",
              "count  740.000000          740.000000        740.000000       740.000000   \n",
              "mean    18.017568           19.216216          6.324324         3.914865   \n",
              "std     11.021247            8.433406          3.436287         1.421675   \n",
              "min      1.000000            0.000000          0.000000         2.000000   \n",
              "25%      9.000000           13.000000          3.000000         3.000000   \n",
              "50%     18.000000           23.000000          6.000000         4.000000   \n",
              "75%     28.000000           26.000000          9.000000         5.000000   \n",
              "max     36.000000           28.000000         12.000000         6.000000   \n",
              "\n",
              "          Seasons  Transportation expense  Distance from Residence to Work  \\\n",
              "count  740.000000              740.000000                       740.000000   \n",
              "mean     2.544595              221.329730                        29.631081   \n",
              "std      1.111831               66.952223                        14.836788   \n",
              "min      1.000000              118.000000                         5.000000   \n",
              "25%      2.000000              179.000000                        16.000000   \n",
              "50%      3.000000              225.000000                        26.000000   \n",
              "75%      4.000000              260.000000                        50.000000   \n",
              "max      4.000000              388.000000                        52.000000   \n",
              "\n",
              "       Service time         Age  Work load Average/day   ...  \\\n",
              "count    740.000000  740.000000              740.000000  ...   \n",
              "mean      12.554054   36.450000              271.490235  ...   \n",
              "std        4.384873    6.478772               39.058116  ...   \n",
              "min        1.000000   27.000000              205.917000  ...   \n",
              "25%        9.000000   31.000000              244.387000  ...   \n",
              "50%       13.000000   37.000000              264.249000  ...   \n",
              "75%       16.000000   40.000000              294.217000  ...   \n",
              "max       29.000000   58.000000              378.884000  ...   \n",
              "\n",
              "       Disciplinary failure   Education         Son  Social drinker  \\\n",
              "count            740.000000  740.000000  740.000000      740.000000   \n",
              "mean               0.054054    1.291892    1.018919        0.567568   \n",
              "std                0.226277    0.673238    1.098489        0.495749   \n",
              "min                0.000000    1.000000    0.000000        0.000000   \n",
              "25%                0.000000    1.000000    0.000000        0.000000   \n",
              "50%                0.000000    1.000000    1.000000        1.000000   \n",
              "75%                0.000000    1.000000    2.000000        1.000000   \n",
              "max                1.000000    4.000000    4.000000        1.000000   \n",
              "\n",
              "       Social smoker         Pet      Weight      Height  Body mass index  \\\n",
              "count     740.000000  740.000000  740.000000  740.000000       740.000000   \n",
              "mean        0.072973    0.745946   79.035135  172.114865        26.677027   \n",
              "std         0.260268    1.318258   12.883211    6.034995         4.285452   \n",
              "min         0.000000    0.000000   56.000000  163.000000        19.000000   \n",
              "25%         0.000000    0.000000   69.000000  169.000000        24.000000   \n",
              "50%         0.000000    0.000000   83.000000  170.000000        25.000000   \n",
              "75%         0.000000    1.000000   89.000000  172.000000        31.000000   \n",
              "max         1.000000    8.000000  108.000000  196.000000        38.000000   \n",
              "\n",
              "       Absenteeism time in hours  \n",
              "count                 740.000000  \n",
              "mean                    6.924324  \n",
              "std                    13.330998  \n",
              "min                     0.000000  \n",
              "25%                     2.000000  \n",
              "50%                     3.000000  \n",
              "75%                     8.000000  \n",
              "max                   120.000000  \n",
              "\n",
              "[8 rows x 21 columns]"
            ]
          },
          "metadata": {
            "tags": []
          },
          "execution_count": 3
        }
      ]
    },
    {
      "cell_type": "markdown",
      "metadata": {
        "id": "FQmGhSILLxKM"
      },
      "source": [
        "### Checking for missing Values"
      ]
    },
    {
      "cell_type": "code",
      "metadata": {
        "id": "_3Ze0N2aLxKM",
        "outputId": "6c185552-825c-4d9f-a1de-2a661b41211f"
      },
      "source": [
        "data.isnull().sum()"
      ],
      "execution_count": null,
      "outputs": [
        {
          "output_type": "execute_result",
          "data": {
            "text/plain": [
              "ID                                 0\n",
              "Reason for absence                 0\n",
              "Month of absence                   0\n",
              "Day of the week                    0\n",
              "Seasons                            0\n",
              "Transportation expense             0\n",
              "Distance from Residence to Work    0\n",
              "Service time                       0\n",
              "Age                                0\n",
              "Work load Average/day              0\n",
              "Hit target                         0\n",
              "Disciplinary failure               0\n",
              "Education                          0\n",
              "Son                                0\n",
              "Social drinker                     0\n",
              "Social smoker                      0\n",
              "Pet                                0\n",
              "Weight                             0\n",
              "Height                             0\n",
              "Body mass index                    0\n",
              "Absenteeism time in hours          0\n",
              "dtype: int64"
            ]
          },
          "metadata": {
            "tags": []
          },
          "execution_count": 4
        }
      ]
    },
    {
      "cell_type": "markdown",
      "metadata": {
        "id": "lWAiQnUYLxKS"
      },
      "source": [
        "### Dropping Unnecessary Columns and Changing the Dataypes of Appropriate Columns"
      ]
    },
    {
      "cell_type": "code",
      "metadata": {
        "id": "FZAyw2ouLxKS",
        "outputId": "8dbe450f-cf66-4b50-9ea9-45219a98006b"
      },
      "source": [
        "data.columns"
      ],
      "execution_count": null,
      "outputs": [
        {
          "output_type": "execute_result",
          "data": {
            "text/plain": [
              "Index(['ID', 'Reason for absence', 'Month of absence', 'Day of the week',\n",
              "       'Seasons', 'Transportation expense', 'Distance from Residence to Work',\n",
              "       'Service time', 'Age', 'Work load Average/day ', 'Hit target',\n",
              "       'Disciplinary failure', 'Education', 'Son', 'Social drinker',\n",
              "       'Social smoker', 'Pet', 'Weight', 'Height', 'Body mass index',\n",
              "       'Absenteeism time in hours'],\n",
              "      dtype='object')"
            ]
          },
          "metadata": {
            "tags": []
          },
          "execution_count": 5
        }
      ]
    },
    {
      "cell_type": "code",
      "metadata": {
        "id": "8tRi08myLxKV"
      },
      "source": [
        "data = data.drop('ID', axis = 1)\n",
        "cats = ['Reason for absence', 'Month of absence', 'Day of the week', 'Seasons', 'Disciplinary failure',\n",
        "        'Education', 'Son', 'Social drinker', 'Social smoker', 'Pet']\n",
        "\n",
        "for i in cats:\n",
        "    data[i] = data[i].astype('category')"
      ],
      "execution_count": null,
      "outputs": []
    },
    {
      "cell_type": "markdown",
      "metadata": {
        "id": "wL66zA7pLxKY"
      },
      "source": [
        "### Checking for Correlation in Variables"
      ]
    },
    {
      "cell_type": "code",
      "metadata": {
        "scrolled": false,
        "id": "UgN4-5SBLxKY",
        "outputId": "df5d4711-06f6-4c3b-cc0b-536be3d0f5b9"
      },
      "source": [
        "fig = plt.figure(figsize = (17, 10))\n",
        "sns.heatmap(data.corr(), annot = True, cmap = 'coolwarm')"
      ],
      "execution_count": null,
      "outputs": [
        {
          "output_type": "execute_result",
          "data": {
            "text/plain": [
              "<matplotlib.axes._subplots.AxesSubplot at 0x7fa578fbe710>"
            ]
          },
          "metadata": {
            "tags": []
          },
          "execution_count": 7
        },
        {
          "output_type": "display_data",
          "data": {
            "image/png": "[encoded data removed]",
            "text/plain": [
              "<Figure size 1224x720 with 2 Axes>"
            ]
          },
          "metadata": {
            "tags": [],
            "needs_background": "light"
          }
        }
      ]
    },
    {
      "cell_type": "markdown",
      "metadata": {
        "id": "18xB1eJGLxKb"
      },
      "source": [
        "## Building The Model"
      ]
    },
    {
      "cell_type": "markdown",
      "metadata": {
        "id": "IJczdicLLxKb"
      },
      "source": [
        "### Splitting The Data into Train and Test"
      ]
    },
    {
      "cell_type": "code",
      "metadata": {
        "id": "6JESINLKLxKb",
        "outputId": "561dc030-c11f-48c9-9da7-ba73a657740f"
      },
      "source": [
        "x_train, x_test, y_train, y_test = train_test_split(data.drop('Absenteeism time in hours', axis = 1), \n",
        "                                                    data['Absenteeism time in hours'], \n",
        "                                                   test_size = 0.3,\n",
        "                                                   shuffle = True)\n",
        "print(x_train.shape, x_test.shape)\n",
        "print(y_train.shape, y_test.shape)"
      ],
      "execution_count": null,
      "outputs": [
        {
          "output_type": "stream",
          "text": [
            "(518, 19) (222, 19)\n",
            "(518,) (222,)\n"
          ],
          "name": "stdout"
        }
      ]
    },
    {
      "cell_type": "markdown",
      "metadata": {
        "id": "MugN4YYoLxKe"
      },
      "source": [
        "### Defining Models"
      ]
    },
    {
      "cell_type": "code",
      "metadata": {
        "id": "-T1d08skLxKe"
      },
      "source": [
        "lr = LinearRegression()\n",
        "parameters = {'fit_intercept':[True, False], 'normalize':[True, False], 'copy_X':[True, False]}\n",
        "\n",
        "grid = GridSearchCV(lr, parameters, cv = 5)\n",
        "random = RandomizedSearchCV(lr, parameters, cv = 5)\n",
        "\n",
        "nn = models.Sequential()"
      ],
      "execution_count": null,
      "outputs": []
    },
    {
      "cell_type": "markdown",
      "metadata": {
        "id": "v0JpRPQCLxKg"
      },
      "source": [
        "### Trying Grid Search CV"
      ]
    },
    {
      "cell_type": "code",
      "metadata": {
        "id": "nRCQVynxLxKg",
        "outputId": "403ec707-0d54-4a87-cf27-563e3b499272"
      },
      "source": [
        "grid.fit(x_train, y_train)\n",
        "print('Best Score: ', grid.best_score_)"
      ],
      "execution_count": null,
      "outputs": [
        {
          "output_type": "stream",
          "text": [
            "Best Score:  -0.009092019443620258\n"
          ],
          "name": "stdout"
        }
      ]
    },
    {
      "cell_type": "markdown",
      "metadata": {
        "id": "Oz9i2RdWLxKi"
      },
      "source": [
        "### Trying Random Search CV"
      ]
    },
    {
      "cell_type": "code",
      "metadata": {
        "id": "Eaa9sh2ALxKj",
        "outputId": "ac50a7d3-b2bc-495b-833d-70ad8d5d10df"
      },
      "source": [
        "random.fit(x_train, y_train)\n",
        "print('Best Score: ', random.best_score_)"
      ],
      "execution_count": null,
      "outputs": [
        {
          "output_type": "stream",
          "text": [
            "Best Score:  -0.009092019443620258\n"
          ],
          "name": "stdout"
        }
      ]
    },
    {
      "cell_type": "markdown",
      "metadata": {
        "id": "y0dsBJM1LxKl"
      },
      "source": [
        "### Trying Neural Networks"
      ]
    },
    {
      "cell_type": "code",
      "metadata": {
        "id": "tjPNm5mlLxKm"
      },
      "source": [
        "nn.add(layers.Dense(512, activation = 'relu', input_shape = (19, )))\n",
        "nn.add(layers.Dense(256, activation = 'relu'))\n",
        "nn.add(layers.Dense(128))\n",
        "nn.add(layers.LeakyReLU(alpha = 0.001))\n",
        "nn.add(layers.Dense(1, activation = 'linear'))\n",
        "\n",
        "nn.compile(optimizer = 'adam', metrics = ['accuracy'], loss = 'mean_squared_error')"
      ],
      "execution_count": null,
      "outputs": []
    },
    {
      "cell_type": "code",
      "metadata": {
        "scrolled": false,
        "id": "e_Xp17Y5LxKo",
        "outputId": "cd9a1093-96b2-47ed-c760-beeb064e8c62"
      },
      "source": [
        "es = EarlyStopping(monitor = 'val_accuracy', patience = 25, verbose = 1, mode = 'min')\n",
        "callbacks = [es, PlotLossesKeras()]\n",
        "nn.fit(x_train, y_train, epochs = 100, batch_size = 20, validation_split = 0.3, callbacks = callbacks)"
      ],
      "execution_count": null,
      "outputs": [
        {
          "output_type": "display_data",
          "data": {
            "image/png": "[encoded data removed]",
            "text/plain": [
              "<Figure size 864x576 with 2 Axes>"
            ]
          },
          "metadata": {
            "tags": [],
            "needs_background": "light"
          }
        },
        {
          "output_type": "stream",
          "text": [
            "accuracy\n",
            "\ttraining         \t (min:    0.094, max:    0.110, cur:    0.110)\n",
            "\tvalidation       \t (min:    0.077, max:    0.109, cur:    0.109)\n",
            "Loss\n",
            "\ttraining         \t (min:  154.622, max:  247.840, cur:  163.545)\n",
            "\tvalidation       \t (min:   71.573, max:  105.241, cur:   79.869)\n",
            "19/19 [==============================] - 0s 23ms/step - loss: 163.5446 - accuracy: 0.1105 - val_loss: 79.8685 - val_accuracy: 0.1090\n",
            "Epoch 00035: early stopping\n"
          ],
          "name": "stdout"
        },
        {
          "output_type": "execute_result",
          "data": {
            "text/plain": [
              "<tensorflow.python.keras.callbacks.History at 0x7fa57b08b210>"
            ]
          },
          "metadata": {
            "tags": []
          },
          "execution_count": 13
        }
      ]
    }
  ]
}