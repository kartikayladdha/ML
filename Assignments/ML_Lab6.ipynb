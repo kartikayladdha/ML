{
  "nbformat": 4,
  "nbformat_minor": 0,
  "metadata": {
    "colab": {
      "name": "ML_Lab6.ipynb",
      "provenance": [],
      "collapsed_sections": [],
      "include_colab_link": true
    },
    "kernelspec": {
      "display_name": "Python 3",
      "language": "python",
      "name": "python3"
    },
    "language_info": {
      "codemirror_mode": {
        "name": "ipython",
        "version": 3
      },
      "file_extension": ".py",
      "mimetype": "text/x-python",
      "name": "python",
      "nbconvert_exporter": "python",
      "pygments_lexer": "ipython3",
      "version": "3.7.6"
    },
    "toc": {
      "base_numbering": 1,
      "nav_menu": {},
      "number_sections": true,
      "sideBar": true,
      "skip_h1_title": true,
      "title_cell": "Table of Contents",
      "title_sidebar": "Contents",
      "toc_cell": false,
      "toc_position": {},
      "toc_section_display": true,
      "toc_window_display": false
    },
    "accelerator": "GPU"
  },
  "cells": [
    {
      "cell_type": "markdown",
      "metadata": {
        "id": "view-in-github",
        "colab_type": "text"
      },
      "source": [
        "<a href=\"https://colab.research.google.com/github/kartikayladdha/ML/blob/master/Assignments/ML_Lab6.ipynb\" target=\"_parent\"><img src=\"https://colab.research.google.com/assets/colab-badge.svg\" alt=\"Open In Colab\"/></a>"
      ]
    },
    {
      "cell_type": "markdown",
      "metadata": {
        "id": "4I2gVgFUblsP",
        "colab_type": "text"
      },
      "source": [
        "# Hyperparameter Tuning and Neural Networks"
      ]
    },
    {
      "cell_type": "code",
      "metadata": {
        "_cell_guid": "b1076dfc-b9ad-4769-8c92-a6c4dae69d19",
        "_uuid": "8f2839f25d086af736a60e9eeb907d3b93b6e0e5",
        "colab_type": "code",
        "id": "apXejf8NpEMz",
        "colab": {
          "base_uri": "https://localhost:8080/",
          "height": 71
        },
        "outputId": "63cee8d5-3ab8-4452-d9d8-5e551b481ff3"
      },
      "source": [
        "import numpy as np\n",
        "import pandas as pd\n",
        "\n",
        "import matplotlib.pyplot as plt\n",
        "import seaborn as sns\n",
        "\n",
        "from sklearn.model_selection import train_test_split, cross_val_score\n",
        "from sklearn.preprocessing import StandardScaler\n",
        "\n",
        "from sklearn import linear_model\n",
        "from sklearn.model_selection import GridSearchCV, RandomizedSearchCV\n",
        "from sklearn.preprocessing import StandardScaler\n",
        "\n",
        "import warnings\n",
        "warnings.filterwarnings('ignore')\n",
        "\n",
        "np.random.seed(27)"
      ],
      "execution_count": null,
      "outputs": [
        {
          "output_type": "stream",
          "text": [
            "/usr/local/lib/python3.6/dist-packages/statsmodels/tools/_testing.py:19: FutureWarning: pandas.util.testing is deprecated. Use the functions in the public API at pandas.testing instead.\n",
            "  import pandas.util.testing as tm\n"
          ],
          "name": "stderr"
        }
      ]
    },
    {
      "cell_type": "code",
      "metadata": {
        "_cell_guid": "79c7e3d0-c299-4dcb-8224-4455121ee9b0",
        "_uuid": "d629ff2d2480ee46fbb7e2d37f6b5fab8052498a",
        "colab_type": "code",
        "id": "3cB_8g2zpEM9",
        "colab": {}
      },
      "source": [
        "# setting up default plotting parameters\n",
        "%matplotlib inline\n",
        "\n",
        "plt.rcParams['figure.figsize'] = [20.0, 7.0]\n",
        "plt.rcParams.update({'font.size': 22,})\n",
        "\n",
        "sns.set_palette('viridis')\n",
        "sns.set_style('white')\n",
        "sns.set_context('talk', font_scale=0.8)"
      ],
      "execution_count": null,
      "outputs": []
    },
    {
      "cell_type": "markdown",
      "metadata": {
        "colab_type": "text",
        "id": "XPr_B3HcFs__"
      },
      "source": [
        "<h3> Datasets </h3>\n",
        "\n",
        "train1.csv - column name 'index' is the name of the observation and columns 0-15 are the sixteen features associated with each entity <br>\n",
        "\n",
        "train2.csv - column name 'index' is the name of the observation and columns 0-19 are the nineteen features associated with each entity <br>\n",
        "\n",
        "train3.csv - column name 'index' is the name of the observation and column 'label' is the target (response/dependent) variable associated with each entity <br>"
      ]
    },
    {
      "cell_type": "code",
      "metadata": {
        "colab_type": "code",
        "id": "BBc1VPwMFotS",
        "colab": {
          "base_uri": "https://localhost:8080/",
          "height": 629
        },
        "outputId": "a793cfaa-ff9a-4b37-eca7-e66353633087"
      },
      "source": [
        "#-O All downloaded content is stored at filename\n",
        " \n",
        "!wget -O 2011gcn.csv https://raw.githubusercontent.com/pranavn91/blockchain/master/2011gcn.csv\n",
        "!wget -O tx2011partvertices_new.csv https://raw.githubusercontent.com/pranavn91/blockchain/master/tx2011partvertices_new.csv\n",
        "!wget -O tx2011partvertices.csv https://raw.githubusercontent.com/pranavn91/blockchain/master/tx2011partvertices.csv\n",
        "\n",
        "train1 = pd.read_csv('2011gcn.csv')\n",
        "train2 = pd.read_csv('tx2011partvertices_new.csv')\n",
        "train3 = pd.read_csv('tx2011partvertices.csv')\n",
        "\n",
        "print('Train 1 Shape: ', train1.shape)\n",
        "print('Train 2 Shape: ', train2.shape)\n",
        "print('Train 3 Shape: ', train3.shape)"
      ],
      "execution_count": null,
      "outputs": [
        {
          "output_type": "stream",
          "text": [
            "--2020-08-30 17:16:22--  https://raw.githubusercontent.com/pranavn91/blockchain/master/2011gcn.csv\n",
            "Resolving raw.githubusercontent.com (raw.githubusercontent.com)... 151.101.0.133, 151.101.64.133, 151.101.128.133, ...\n",
            "Connecting to raw.githubusercontent.com (raw.githubusercontent.com)|151.101.0.133|:443... connected.\n",
            "HTTP request sent, awaiting response... 200 OK\n",
            "Length: 12563086 (12M) [text/plain]\n",
            "Saving to: ‘2011gcn.csv’\n",
            "\n",
            "2011gcn.csv         100%[===================>]  11.98M  45.3MB/s    in 0.3s    \n",
            "\n",
            "2020-08-30 17:16:23 (45.3 MB/s) - ‘2011gcn.csv’ saved [12563086/12563086]\n",
            "\n",
            "--2020-08-30 17:16:23--  https://raw.githubusercontent.com/pranavn91/blockchain/master/tx2011partvertices_new.csv\n",
            "Resolving raw.githubusercontent.com (raw.githubusercontent.com)... 151.101.0.133, 151.101.64.133, 151.101.128.133, ...\n",
            "Connecting to raw.githubusercontent.com (raw.githubusercontent.com)|151.101.0.133|:443... connected.\n",
            "HTTP request sent, awaiting response... 200 OK\n",
            "Length: 12501458 (12M) [text/plain]\n",
            "Saving to: ‘tx2011partvertices_new.csv’\n",
            "\n",
            "tx2011partvertices_ 100%[===================>]  11.92M  46.3MB/s    in 0.3s    \n",
            "\n",
            "2020-08-30 17:16:24 (46.3 MB/s) - ‘tx2011partvertices_new.csv’ saved [12501458/12501458]\n",
            "\n",
            "--2020-08-30 17:16:24--  https://raw.githubusercontent.com/pranavn91/blockchain/master/tx2011partvertices.csv\n",
            "Resolving raw.githubusercontent.com (raw.githubusercontent.com)... 151.101.0.133, 151.101.64.133, 151.101.128.133, ...\n",
            "Connecting to raw.githubusercontent.com (raw.githubusercontent.com)|151.101.0.133|:443... connected.\n",
            "HTTP request sent, awaiting response... 200 OK\n",
            "Length: 1934257 (1.8M) [text/plain]\n",
            "Saving to: ‘tx2011partvertices.csv’\n",
            "\n",
            "tx2011partvertices. 100%[===================>]   1.84M  --.-KB/s    in 0.1s    \n",
            "\n",
            "2020-08-30 17:16:24 (15.1 MB/s) - ‘tx2011partvertices.csv’ saved [1934257/1934257]\n",
            "\n",
            "Train 1 Shape:  (96498, 17)\n",
            "Train 2 Shape:  (96498, 20)\n",
            "Train 3 Shape:  (96498, 2)\n"
          ],
          "name": "stdout"
        }
      ]
    },
    {
      "cell_type": "markdown",
      "metadata": {
        "colab_type": "text",
        "id": "aNJNaHQSIdal"
      },
      "source": [
        "### Datasets Dimensions and Initial Values"
      ]
    },
    {
      "cell_type": "code",
      "metadata": {
        "colab_type": "code",
        "id": "c8SiGgYhIZ5s",
        "colab": {
          "base_uri": "https://localhost:8080/",
          "height": 204
        },
        "outputId": "ceb90888-5965-478a-f796-a0a0daf5ebb7"
      },
      "source": [
        "train1.rename(columns={'Unnamed: 0':'index'}, inplace=True)\n",
        "train1['index'] = train1['index'] + 1\n",
        "train1.head()"
      ],
      "execution_count": null,
      "outputs": [
        {
          "output_type": "execute_result",
          "data": {
            "text/html": [
              "<div>\n",
              "<style scoped>\n",
              "    .dataframe tbody tr th:only-of-type {\n",
              "        vertical-align: middle;\n",
              "    }\n",
              "\n",
              "    .dataframe tbody tr th {\n",
              "        vertical-align: top;\n",
              "    }\n",
              "\n",
              "    .dataframe thead th {\n",
              "        text-align: right;\n",
              "    }\n",
              "</style>\n",
              "<table border=\"1\" class=\"dataframe\">\n",
              "  <thead>\n",
              "    <tr style=\"text-align: right;\">\n",
              "      <th></th>\n",
              "      <th>index</th>\n",
              "      <th>0</th>\n",
              "      <th>1</th>\n",
              "      <th>2</th>\n",
              "      <th>3</th>\n",
              "      <th>4</th>\n",
              "      <th>5</th>\n",
              "      <th>6</th>\n",
              "      <th>7</th>\n",
              "      <th>8</th>\n",
              "      <th>9</th>\n",
              "      <th>10</th>\n",
              "      <th>11</th>\n",
              "      <th>12</th>\n",
              "      <th>13</th>\n",
              "      <th>14</th>\n",
              "      <th>15</th>\n",
              "    </tr>\n",
              "  </thead>\n",
              "  <tbody>\n",
              "    <tr>\n",
              "      <th>0</th>\n",
              "      <td>1</td>\n",
              "      <td>0.0</td>\n",
              "      <td>4.811244e+07</td>\n",
              "      <td>0.0</td>\n",
              "      <td>0.0</td>\n",
              "      <td>5.298934e+07</td>\n",
              "      <td>0.0</td>\n",
              "      <td>5.215435e+07</td>\n",
              "      <td>0.0</td>\n",
              "      <td>0.0</td>\n",
              "      <td>4.293262e+05</td>\n",
              "      <td>3.994267e+07</td>\n",
              "      <td>6.251989e+07</td>\n",
              "      <td>0.0</td>\n",
              "      <td>0.0</td>\n",
              "      <td>2.670458e+07</td>\n",
              "      <td>8.313858e+07</td>\n",
              "    </tr>\n",
              "    <tr>\n",
              "      <th>1</th>\n",
              "      <td>2</td>\n",
              "      <td>0.0</td>\n",
              "      <td>3.477977e+05</td>\n",
              "      <td>0.0</td>\n",
              "      <td>0.0</td>\n",
              "      <td>3.777575e+05</td>\n",
              "      <td>0.0</td>\n",
              "      <td>3.757520e+05</td>\n",
              "      <td>0.0</td>\n",
              "      <td>0.0</td>\n",
              "      <td>6.889133e+03</td>\n",
              "      <td>3.001618e+05</td>\n",
              "      <td>4.527358e+05</td>\n",
              "      <td>0.0</td>\n",
              "      <td>0.0</td>\n",
              "      <td>1.915057e+05</td>\n",
              "      <td>6.009039e+05</td>\n",
              "    </tr>\n",
              "    <tr>\n",
              "      <th>2</th>\n",
              "      <td>3</td>\n",
              "      <td>0.0</td>\n",
              "      <td>6.455196e+07</td>\n",
              "      <td>0.0</td>\n",
              "      <td>0.0</td>\n",
              "      <td>7.110790e+07</td>\n",
              "      <td>0.0</td>\n",
              "      <td>6.997804e+07</td>\n",
              "      <td>0.0</td>\n",
              "      <td>0.0</td>\n",
              "      <td>5.670157e+05</td>\n",
              "      <td>5.356332e+07</td>\n",
              "      <td>8.388026e+07</td>\n",
              "      <td>0.0</td>\n",
              "      <td>0.0</td>\n",
              "      <td>3.583296e+07</td>\n",
              "      <td>1.115463e+08</td>\n",
              "    </tr>\n",
              "    <tr>\n",
              "      <th>3</th>\n",
              "      <td>4</td>\n",
              "      <td>0.0</td>\n",
              "      <td>2.009876e+08</td>\n",
              "      <td>0.0</td>\n",
              "      <td>0.0</td>\n",
              "      <td>2.214679e+08</td>\n",
              "      <td>0.0</td>\n",
              "      <td>2.174101e+08</td>\n",
              "      <td>0.0</td>\n",
              "      <td>0.0</td>\n",
              "      <td>1.342720e+06</td>\n",
              "      <td>1.665389e+08</td>\n",
              "      <td>2.614420e+08</td>\n",
              "      <td>0.0</td>\n",
              "      <td>0.0</td>\n",
              "      <td>1.116514e+08</td>\n",
              "      <td>3.472892e+08</td>\n",
              "    </tr>\n",
              "    <tr>\n",
              "      <th>4</th>\n",
              "      <td>5</td>\n",
              "      <td>0.0</td>\n",
              "      <td>2.384675e+05</td>\n",
              "      <td>0.0</td>\n",
              "      <td>0.0</td>\n",
              "      <td>2.597246e+05</td>\n",
              "      <td>0.0</td>\n",
              "      <td>2.577884e+05</td>\n",
              "      <td>0.0</td>\n",
              "      <td>0.0</td>\n",
              "      <td>4.202993e+03</td>\n",
              "      <td>2.042845e+05</td>\n",
              "      <td>3.103489e+05</td>\n",
              "      <td>0.0</td>\n",
              "      <td>0.0</td>\n",
              "      <td>1.315073e+05</td>\n",
              "      <td>4.120424e+05</td>\n",
              "    </tr>\n",
              "  </tbody>\n",
              "</table>\n",
              "</div>"
            ],
            "text/plain": [
              "   index    0             1    2  ...   12   13            14            15\n",
              "0      1  0.0  4.811244e+07  0.0  ...  0.0  0.0  2.670458e+07  8.313858e+07\n",
              "1      2  0.0  3.477977e+05  0.0  ...  0.0  0.0  1.915057e+05  6.009039e+05\n",
              "2      3  0.0  6.455196e+07  0.0  ...  0.0  0.0  3.583296e+07  1.115463e+08\n",
              "3      4  0.0  2.009876e+08  0.0  ...  0.0  0.0  1.116514e+08  3.472892e+08\n",
              "4      5  0.0  2.384675e+05  0.0  ...  0.0  0.0  1.315073e+05  4.120424e+05\n",
              "\n",
              "[5 rows x 17 columns]"
            ]
          },
          "metadata": {
            "tags": []
          },
          "execution_count": 4
        }
      ]
    },
    {
      "cell_type": "code",
      "metadata": {
        "colab_type": "code",
        "id": "DBcQ1GbJIa2m",
        "colab": {
          "base_uri": "https://localhost:8080/",
          "height": 224
        },
        "outputId": "7f142e1d-2da5-4b9b-be1b-eadc2486b924"
      },
      "source": [
        "train2.rename(columns={'Unnamed: 0':'index'}, inplace=True)\n",
        "train2.head()"
      ],
      "execution_count": null,
      "outputs": [
        {
          "output_type": "execute_result",
          "data": {
            "text/html": [
              "<div>\n",
              "<style scoped>\n",
              "    .dataframe tbody tr th:only-of-type {\n",
              "        vertical-align: middle;\n",
              "    }\n",
              "\n",
              "    .dataframe tbody tr th {\n",
              "        vertical-align: top;\n",
              "    }\n",
              "\n",
              "    .dataframe thead th {\n",
              "        text-align: right;\n",
              "    }\n",
              "</style>\n",
              "<table border=\"1\" class=\"dataframe\">\n",
              "  <thead>\n",
              "    <tr style=\"text-align: right;\">\n",
              "      <th></th>\n",
              "      <th>index</th>\n",
              "      <th>txsize</th>\n",
              "      <th>txvirtualsize</th>\n",
              "      <th>txinputs_count</th>\n",
              "      <th>txoutputs_count</th>\n",
              "      <th>txinput_val</th>\n",
              "      <th>txoutput_val</th>\n",
              "      <th>txfee</th>\n",
              "      <th>Min_received</th>\n",
              "      <th>Max_received</th>\n",
              "      <th>Avg_received</th>\n",
              "      <th>Total_received</th>\n",
              "      <th>Stdev_received</th>\n",
              "      <th>Var_received</th>\n",
              "      <th>Min_sent</th>\n",
              "      <th>Max_sent</th>\n",
              "      <th>Avg_sent</th>\n",
              "      <th>Total_sent</th>\n",
              "      <th>Stdev_sent</th>\n",
              "      <th>Var_sent</th>\n",
              "    </tr>\n",
              "  </thead>\n",
              "  <tbody>\n",
              "    <tr>\n",
              "      <th>0</th>\n",
              "      <td>1</td>\n",
              "      <td>7369</td>\n",
              "      <td>7369</td>\n",
              "      <td>5</td>\n",
              "      <td>190</td>\n",
              "      <td>215000000.0</td>\n",
              "      <td>214600000.0</td>\n",
              "      <td>400000</td>\n",
              "      <td>0.0005</td>\n",
              "      <td>1.0000</td>\n",
              "      <td>0.011295</td>\n",
              "      <td>2.1460</td>\n",
              "      <td>0.081163</td>\n",
              "      <td>0.006587</td>\n",
              "      <td>0.0005</td>\n",
              "      <td>1.6700</td>\n",
              "      <td>0.4300</td>\n",
              "      <td>2.1500</td>\n",
              "      <td>0.703445</td>\n",
              "      <td>0.494835</td>\n",
              "    </tr>\n",
              "    <tr>\n",
              "      <th>1</th>\n",
              "      <td>2</td>\n",
              "      <td>293</td>\n",
              "      <td>293</td>\n",
              "      <td>1</td>\n",
              "      <td>3</td>\n",
              "      <td>4400000.0</td>\n",
              "      <td>4350000.0</td>\n",
              "      <td>50000</td>\n",
              "      <td>0.0010</td>\n",
              "      <td>0.0415</td>\n",
              "      <td>0.014500</td>\n",
              "      <td>0.0435</td>\n",
              "      <td>0.023383</td>\n",
              "      <td>0.000547</td>\n",
              "      <td>0.0440</td>\n",
              "      <td>0.0440</td>\n",
              "      <td>0.0440</td>\n",
              "      <td>0.0440</td>\n",
              "      <td>0.000000</td>\n",
              "      <td>0.000000</td>\n",
              "    </tr>\n",
              "    <tr>\n",
              "      <th>2</th>\n",
              "      <td>3</td>\n",
              "      <td>11139</td>\n",
              "      <td>11139</td>\n",
              "      <td>1</td>\n",
              "      <td>322</td>\n",
              "      <td>125000000.0</td>\n",
              "      <td>124400000.0</td>\n",
              "      <td>600000</td>\n",
              "      <td>0.0010</td>\n",
              "      <td>0.4460</td>\n",
              "      <td>0.003863</td>\n",
              "      <td>1.2440</td>\n",
              "      <td>0.024941</td>\n",
              "      <td>0.000622</td>\n",
              "      <td>1.2500</td>\n",
              "      <td>1.2500</td>\n",
              "      <td>1.2500</td>\n",
              "      <td>1.2500</td>\n",
              "      <td>0.000000</td>\n",
              "      <td>0.000000</td>\n",
              "    </tr>\n",
              "    <tr>\n",
              "      <th>3</th>\n",
              "      <td>4</td>\n",
              "      <td>495</td>\n",
              "      <td>495</td>\n",
              "      <td>1</td>\n",
              "      <td>9</td>\n",
              "      <td>27450000.0</td>\n",
              "      <td>27400000.0</td>\n",
              "      <td>50000</td>\n",
              "      <td>0.0010</td>\n",
              "      <td>0.2660</td>\n",
              "      <td>0.030444</td>\n",
              "      <td>0.2740</td>\n",
              "      <td>0.088333</td>\n",
              "      <td>0.007803</td>\n",
              "      <td>0.2745</td>\n",
              "      <td>0.2745</td>\n",
              "      <td>0.2745</td>\n",
              "      <td>0.2745</td>\n",
              "      <td>0.000000</td>\n",
              "      <td>0.000000</td>\n",
              "    </tr>\n",
              "    <tr>\n",
              "      <th>4</th>\n",
              "      <td>5</td>\n",
              "      <td>462</td>\n",
              "      <td>462</td>\n",
              "      <td>1</td>\n",
              "      <td>8</td>\n",
              "      <td>3000000.0</td>\n",
              "      <td>2950000.0</td>\n",
              "      <td>50000</td>\n",
              "      <td>0.0010</td>\n",
              "      <td>0.0225</td>\n",
              "      <td>0.003687</td>\n",
              "      <td>0.0295</td>\n",
              "      <td>0.007601</td>\n",
              "      <td>0.000058</td>\n",
              "      <td>0.0300</td>\n",
              "      <td>0.0300</td>\n",
              "      <td>0.0300</td>\n",
              "      <td>0.0300</td>\n",
              "      <td>0.000000</td>\n",
              "      <td>0.000000</td>\n",
              "    </tr>\n",
              "  </tbody>\n",
              "</table>\n",
              "</div>"
            ],
            "text/plain": [
              "   index  txsize  txvirtualsize  ...  Total_sent  Stdev_sent  Var_sent\n",
              "0      1    7369           7369  ...      2.1500    0.703445  0.494835\n",
              "1      2     293            293  ...      0.0440    0.000000  0.000000\n",
              "2      3   11139          11139  ...      1.2500    0.000000  0.000000\n",
              "3      4     495            495  ...      0.2745    0.000000  0.000000\n",
              "4      5     462            462  ...      0.0300    0.000000  0.000000\n",
              "\n",
              "[5 rows x 20 columns]"
            ]
          },
          "metadata": {
            "tags": []
          },
          "execution_count": 5
        }
      ]
    },
    {
      "cell_type": "code",
      "metadata": {
        "colab_type": "code",
        "id": "kwoYx1QFIbU2",
        "colab": {
          "base_uri": "https://localhost:8080/",
          "height": 204
        },
        "outputId": "144ccf8d-3cd8-400b-c1d6-f62dfc785daf"
      },
      "source": [
        "train3.rename(columns={'Unnamed: 0':'index'}, inplace=True)\n",
        "train3.head()"
      ],
      "execution_count": null,
      "outputs": [
        {
          "output_type": "execute_result",
          "data": {
            "text/html": [
              "<div>\n",
              "<style scoped>\n",
              "    .dataframe tbody tr th:only-of-type {\n",
              "        vertical-align: middle;\n",
              "    }\n",
              "\n",
              "    .dataframe tbody tr th {\n",
              "        vertical-align: top;\n",
              "    }\n",
              "\n",
              "    .dataframe thead th {\n",
              "        text-align: right;\n",
              "    }\n",
              "</style>\n",
              "<table border=\"1\" class=\"dataframe\">\n",
              "  <thead>\n",
              "    <tr style=\"text-align: right;\">\n",
              "      <th></th>\n",
              "      <th>index</th>\n",
              "      <th>label</th>\n",
              "    </tr>\n",
              "  </thead>\n",
              "  <tbody>\n",
              "    <tr>\n",
              "      <th>0</th>\n",
              "      <td>1</td>\n",
              "      <td>unclassified</td>\n",
              "    </tr>\n",
              "    <tr>\n",
              "      <th>1</th>\n",
              "      <td>2</td>\n",
              "      <td>donations</td>\n",
              "    </tr>\n",
              "    <tr>\n",
              "      <th>2</th>\n",
              "      <td>3</td>\n",
              "      <td>unclassified</td>\n",
              "    </tr>\n",
              "    <tr>\n",
              "      <th>3</th>\n",
              "      <td>4</td>\n",
              "      <td>donations</td>\n",
              "    </tr>\n",
              "    <tr>\n",
              "      <th>4</th>\n",
              "      <td>5</td>\n",
              "      <td>donations</td>\n",
              "    </tr>\n",
              "  </tbody>\n",
              "</table>\n",
              "</div>"
            ],
            "text/plain": [
              "   index         label\n",
              "0      1  unclassified\n",
              "1      2     donations\n",
              "2      3  unclassified\n",
              "3      4     donations\n",
              "4      5     donations"
            ]
          },
          "metadata": {
            "tags": []
          },
          "execution_count": 6
        }
      ]
    },
    {
      "cell_type": "markdown",
      "metadata": {
        "id": "TcmwJDsLbls0",
        "colab_type": "text"
      },
      "source": [
        "### Description Of Datasets"
      ]
    },
    {
      "cell_type": "code",
      "metadata": {
        "colab_type": "code",
        "id": "tvbCnBvwBvyW",
        "colab": {
          "base_uri": "https://localhost:8080/",
          "height": 425
        },
        "outputId": "0be29a30-e781-47aa-f39e-87482b676fa7"
      },
      "source": [
        "train1.info()"
      ],
      "execution_count": null,
      "outputs": [
        {
          "output_type": "stream",
          "text": [
            "<class 'pandas.core.frame.DataFrame'>\n",
            "RangeIndex: 96498 entries, 0 to 96497\n",
            "Data columns (total 17 columns):\n",
            " #   Column  Non-Null Count  Dtype  \n",
            "---  ------  --------------  -----  \n",
            " 0   index   96498 non-null  int64  \n",
            " 1   0       96498 non-null  float64\n",
            " 2   1       96498 non-null  float64\n",
            " 3   2       96498 non-null  float64\n",
            " 4   3       96498 non-null  float64\n",
            " 5   4       96498 non-null  float64\n",
            " 6   5       96498 non-null  float64\n",
            " 7   6       96498 non-null  float64\n",
            " 8   7       96498 non-null  float64\n",
            " 9   8       96498 non-null  float64\n",
            " 10  9       96498 non-null  float64\n",
            " 11  10      96498 non-null  float64\n",
            " 12  11      96498 non-null  float64\n",
            " 13  12      96498 non-null  float64\n",
            " 14  13      96498 non-null  float64\n",
            " 15  14      96498 non-null  float64\n",
            " 16  15      96498 non-null  float64\n",
            "dtypes: float64(16), int64(1)\n",
            "memory usage: 12.5 MB\n"
          ],
          "name": "stdout"
        }
      ]
    },
    {
      "cell_type": "code",
      "metadata": {
        "colab_type": "code",
        "id": "OnE3dYiKBx76",
        "colab": {
          "base_uri": "https://localhost:8080/",
          "height": 476
        },
        "outputId": "b96fef3e-df96-4e77-e654-26ac04cd5d91"
      },
      "source": [
        "train2.info()"
      ],
      "execution_count": null,
      "outputs": [
        {
          "output_type": "stream",
          "text": [
            "<class 'pandas.core.frame.DataFrame'>\n",
            "RangeIndex: 96498 entries, 0 to 96497\n",
            "Data columns (total 20 columns):\n",
            " #   Column           Non-Null Count  Dtype  \n",
            "---  ------           --------------  -----  \n",
            " 0   index            96498 non-null  int64  \n",
            " 1   txsize           96498 non-null  int64  \n",
            " 2   txvirtualsize    96498 non-null  int64  \n",
            " 3   txinputs_count   96498 non-null  int64  \n",
            " 4   txoutputs_count  96498 non-null  int64  \n",
            " 5   txinput_val      96498 non-null  float64\n",
            " 6   txoutput_val     96498 non-null  float64\n",
            " 7   txfee            96498 non-null  int64  \n",
            " 8   Min_received     96498 non-null  float64\n",
            " 9   Max_received     96498 non-null  float64\n",
            " 10  Avg_received     96498 non-null  float64\n",
            " 11  Total_received   96498 non-null  float64\n",
            " 12  Stdev_received   96498 non-null  float64\n",
            " 13  Var_received     96498 non-null  float64\n",
            " 14  Min_sent         96498 non-null  float64\n",
            " 15  Max_sent         96498 non-null  float64\n",
            " 16  Avg_sent         96498 non-null  float64\n",
            " 17  Total_sent       96498 non-null  float64\n",
            " 18  Stdev_sent       96498 non-null  float64\n",
            " 19  Var_sent         96498 non-null  float64\n",
            "dtypes: float64(14), int64(6)\n",
            "memory usage: 14.7 MB\n"
          ],
          "name": "stdout"
        }
      ]
    },
    {
      "cell_type": "code",
      "metadata": {
        "colab_type": "code",
        "id": "rHlShhybBzRp",
        "colab": {
          "base_uri": "https://localhost:8080/",
          "height": 170
        },
        "outputId": "498534fd-ce4a-46f9-f155-2739c425cbfc"
      },
      "source": [
        "train3.info()"
      ],
      "execution_count": null,
      "outputs": [
        {
          "output_type": "stream",
          "text": [
            "<class 'pandas.core.frame.DataFrame'>\n",
            "RangeIndex: 96498 entries, 0 to 96497\n",
            "Data columns (total 2 columns):\n",
            " #   Column  Non-Null Count  Dtype \n",
            "---  ------  --------------  ----- \n",
            " 0   index   96498 non-null  int64 \n",
            " 1   label   96498 non-null  object\n",
            "dtypes: int64(1), object(1)\n",
            "memory usage: 1.5+ MB\n"
          ],
          "name": "stdout"
        }
      ]
    },
    {
      "cell_type": "markdown",
      "metadata": {
        "colab_type": "text",
        "id": "ztgRyML_AGQD"
      },
      "source": [
        "### Preparation of the Dataset"
      ]
    },
    {
      "cell_type": "code",
      "metadata": {
        "colab_type": "code",
        "id": "RkCzgtlNAJI7",
        "colab": {}
      },
      "source": [
        "results = pd.merge(train3, train1, on='index', how='inner')\n",
        "\n",
        "# split data into X and y\n",
        "X = results.iloc[:,2:18]\n",
        "scaler = StandardScaler()\n",
        "X = scaler.fit_transform(X)\n",
        "Y1 = results['label']"
      ],
      "execution_count": null,
      "outputs": []
    },
    {
      "cell_type": "code",
      "metadata": {
        "colab_type": "code",
        "id": "99G2uu3ZHe-4",
        "colab": {}
      },
      "source": [
        "from sklearn import preprocessing\n",
        "le = preprocessing.LabelEncoder()\n",
        "le.fit(results['label'].unique())\n",
        "Y = pd.DataFrame(le.transform(Y1))"
      ],
      "execution_count": null,
      "outputs": []
    },
    {
      "cell_type": "code",
      "metadata": {
        "id": "Ah3fpKe6bltT",
        "colab_type": "code",
        "colab": {
          "base_uri": "https://localhost:8080/",
          "height": 51
        },
        "outputId": "8befb627-8ac7-46e5-aed9-bdbb890591c2"
      },
      "source": [
        "Y.nunique()"
      ],
      "execution_count": null,
      "outputs": [
        {
          "output_type": "execute_result",
          "data": {
            "text/plain": [
              "0    6\n",
              "dtype: int64"
            ]
          },
          "metadata": {
            "tags": []
          },
          "execution_count": 12
        }
      ]
    },
    {
      "cell_type": "markdown",
      "metadata": {
        "colab_type": "text",
        "id": "jyKY_G6KAXZF"
      },
      "source": [
        "# split data into train and test sets"
      ]
    },
    {
      "cell_type": "code",
      "metadata": {
        "colab_type": "code",
        "id": "YeRBKIntAYI4",
        "colab": {}
      },
      "source": [
        "seed = 7\n",
        "test_size = 0.2\n",
        "X_train, X_test, y_train, y_test = train_test_split(X, Y, test_size=test_size, random_state=seed)"
      ],
      "execution_count": null,
      "outputs": []
    },
    {
      "cell_type": "markdown",
      "metadata": {
        "colab_type": "text",
        "id": "mapE8pM_ArvQ"
      },
      "source": [
        "#Classification tasks"
      ]
    },
    {
      "cell_type": "code",
      "metadata": {
        "_uuid": "9b3ba77071ced109f3488534ec03934c3b9d42c0",
        "colab_type": "code",
        "id": "21G6p2eBpENT",
        "colab": {}
      },
      "source": [
        "# define models\n",
        "logistic = linear_model.LogisticRegression(solver='liblinear')\n",
        "sgd = linear_model.SGDClassifier()"
      ],
      "execution_count": null,
      "outputs": []
    },
    {
      "cell_type": "code",
      "metadata": {
        "_uuid": "92ac7cade192e1dfd394d7ca4797617d2c630b0c",
        "colab_type": "code",
        "id": "JTACOIeYpENZ",
        "colab": {}
      },
      "source": [
        "models = [logistic, sgd]"
      ],
      "execution_count": null,
      "outputs": []
    },
    {
      "cell_type": "code",
      "metadata": {
        "_uuid": "98130258fdfb513a43a59283f52a124cfb114a57",
        "colab_type": "code",
        "id": "8QJ-bTWNpENe",
        "colab": {}
      },
      "source": [
        "# function to get cross validation scores\n",
        "def get_cv_scores(model):\n",
        "    scores = cross_val_score(model, X_train, y_train, cv=3, scoring='accuracy')\n",
        "    print('CV Mean: ', np.mean(scores))\n",
        "    print('STD: ', np.std(scores))\n",
        "    print('\\n')"
      ],
      "execution_count": null,
      "outputs": []
    },
    {
      "cell_type": "code",
      "metadata": {
        "_uuid": "f17c6ea0582b028cd7e05ec0063deecb4c2d4e05",
        "colab_type": "code",
        "id": "DIPLiiD0pENi",
        "colab": {
          "base_uri": "https://localhost:8080/",
          "height": 340
        },
        "outputId": "c74c6d8a-195c-4982-e37a-3a5b85a96f1c"
      },
      "source": [
        "# loop through list of models\n",
        "for model in models:\n",
        "    print(model)\n",
        "    get_cv_scores(model)"
      ],
      "execution_count": null,
      "outputs": [
        {
          "output_type": "stream",
          "text": [
            "LogisticRegression(C=1.0, class_weight=None, dual=False, fit_intercept=True,\n",
            "                   intercept_scaling=1, l1_ratio=None, max_iter=100,\n",
            "                   multi_class='auto', n_jobs=None, penalty='l2',\n",
            "                   random_state=None, solver='liblinear', tol=0.0001, verbose=0,\n",
            "                   warm_start=False)\n",
            "CV Mean:  0.8705277251100334\n",
            "STD:  0.0005151485144878273\n",
            "\n",
            "\n",
            "SGDClassifier(alpha=0.0001, average=False, class_weight=None,\n",
            "              early_stopping=False, epsilon=0.1, eta0=0.0, fit_intercept=True,\n",
            "              l1_ratio=0.15, learning_rate='optimal', loss='hinge',\n",
            "              max_iter=1000, n_iter_no_change=5, n_jobs=None, penalty='l2',\n",
            "              power_t=0.5, random_state=None, shuffle=True, tol=0.001,\n",
            "              validation_fraction=0.1, verbose=0, warm_start=False)\n",
            "CV Mean:  0.8647374931564284\n",
            "STD:  0.007908782965187195\n",
            "\n",
            "\n"
          ],
          "name": "stdout"
        }
      ]
    },
    {
      "cell_type": "markdown",
      "metadata": {
        "_uuid": "7d6d3eb6e3b092858e398592e8cde0dd4d912239",
        "colab_type": "text",
        "id": "QsGQQoaxpENl"
      },
      "source": [
        "From this we can see our best performing models out of the box are logistic regression and stochastic gradient descent.  Let's see if we can optimize these models with hyperparameter tuning.\n",
        "\n",
        "### Logistic Regression and Grid Search\n",
        "\n",
        "Grid search is an exhaustive search over specified parameter values."
      ]
    },
    {
      "cell_type": "code",
      "metadata": {
        "id": "DAVt5Yv5blts",
        "colab_type": "code",
        "colab": {
          "base_uri": "https://localhost:8080/",
          "height": 119
        },
        "outputId": "902bd66b-f365-416d-b92a-ebfcf0f8cf92"
      },
      "source": [
        "#class sklearn.model_selection.GridSearchCV(estimator, param_grid, *, scoring=None, n_jobs=None, \n",
        "#iid='deprecated', refit=True, cv=None, verbose=0, pre_dispatch='2*n_jobs', error_score=nan, return_train_score=False)\n",
        "\n",
        "#n_jobs int, default=None\n",
        "#Number of jobs to run in parallel. None means 1 unless in a joblib.parallel_backend context. -1 means using all processors.\n",
        "\n",
        "\n",
        "penalty = ['l1', 'l2']\n",
        "C = [0.0001, 0.001, 0.01]\n",
        "class_weight = [{1:0.5, 0:0.5}, {1:0.4, 0:0.6}]\n",
        "solver = ['liblinear', 'saga']\n",
        "\n",
        "param_grid = dict(penalty=penalty,\n",
        "                  C=C,\n",
        "                  class_weight=class_weight,\n",
        "                  solver=solver)\n",
        "\n",
        "grid = GridSearchCV(estimator=logistic, param_grid=param_grid, scoring='accuracy', verbose=1, n_jobs=-1)\n",
        "grid_result = grid.fit(X_train, y_train)\n",
        "\n",
        "print('Best Score: ', grid_result.best_score_)\n",
        "print('Best Params: ', grid_result.best_params_)"
      ],
      "execution_count": null,
      "outputs": [
        {
          "output_type": "stream",
          "text": [
            "Fitting 5 folds for each of 24 candidates, totalling 120 fits\n"
          ],
          "name": "stdout"
        },
        {
          "output_type": "stream",
          "text": [
            "[Parallel(n_jobs=-1)]: Using backend LokyBackend with 2 concurrent workers.\n",
            "[Parallel(n_jobs=-1)]: Done  46 tasks      | elapsed:  1.1min\n",
            "[Parallel(n_jobs=-1)]: Done 120 out of 120 | elapsed:  5.3min finished\n"
          ],
          "name": "stderr"
        },
        {
          "output_type": "stream",
          "text": [
            "Best Score:  0.8516153610716687\n",
            "Best Params:  {'C': 0.01, 'class_weight': {1: 0.5, 0: 0.5}, 'penalty': 'l1', 'solver': 'liblinear'}\n"
          ],
          "name": "stdout"
        }
      ]
    },
    {
      "cell_type": "markdown",
      "metadata": {
        "colab_type": "text",
        "id": "qsoXFbZDOz1k"
      },
      "source": [
        "#Best Score:  0.7839596742612616\n",
        "#Best Params:  {'C': 0.0001, 'class_weight': {1: 0.5, 0: 0.5}, 'penalty': 'l2', 'solver': 'liblinear'}"
      ]
    },
    {
      "cell_type": "code",
      "metadata": {
        "_uuid": "8b3fbfd022c02de6e51a97130ec3c30af4cb685c",
        "colab_type": "code",
        "id": "43ssYFjQpENq",
        "colab": {
          "base_uri": "https://localhost:8080/",
          "height": 85
        },
        "outputId": "5af1da0c-aff4-4cb5-9e01-5e43db010ffe"
      },
      "source": [
        "logistic = linear_model.LogisticRegression(C=0.0001, class_weight={1:0.5, 0:0.5}, penalty='l2', solver='liblinear')\n",
        "get_cv_scores(logistic)"
      ],
      "execution_count": null,
      "outputs": [
        {
          "output_type": "stream",
          "text": [
            "CV Mean:  0.838415506965292\n",
            "STD:  0.0003338673460954688\n",
            "\n",
            "\n"
          ],
          "name": "stdout"
        }
      ]
    },
    {
      "cell_type": "code",
      "metadata": {
        "_uuid": "91f9287a24c6892ec1899252a6d449c1e4f5318a",
        "colab_type": "code",
        "id": "dKX9zr9PpENv",
        "colab": {
          "base_uri": "https://localhost:8080/",
          "height": 51
        },
        "outputId": "769f0d6e-18b3-46b7-cbca-2218b1f08967"
      },
      "source": [
        "from sklearn.metrics import accuracy_score\n",
        "\n",
        "logistic.fit(X_train, y_train)\n",
        "\n",
        "y_train_pred = logistic.predict(X_train)\n",
        "accuracy_train = accuracy_score(y_train, y_train_pred)\n",
        "print(\"Accuracy: %.2f%%\" % (accuracy_train))\n",
        "\n",
        "\n",
        "y_test_pred = logistic.predict(X_test)\n",
        "accuracy_test = accuracy_score(y_test, y_test_pred)\n",
        "print(\"Accuracy: %.2f%%\" % (accuracy_test))"
      ],
      "execution_count": null,
      "outputs": [
        {
          "output_type": "stream",
          "text": [
            "Accuracy: 0.84%\n",
            "Accuracy: 0.84%\n"
          ],
          "name": "stdout"
        }
      ]
    },
    {
      "cell_type": "markdown",
      "metadata": {
        "_uuid": "b62c8810bb88c70413d502cc1cf60eb0c117ddfe",
        "colab_type": "text",
        "id": "UqqY2tqIpEN3"
      },
      "source": [
        "### Stochastic Gradient Descent and Random Search\n",
        "\n",
        "Random search is a random (obviously) search over specified parameter values."
      ]
    },
    {
      "cell_type": "code",
      "metadata": {
        "_uuid": "f450d2823cc524633b5344a07fb8e7e7e18df91a",
        "colab_type": "code",
        "id": "s4mbSGIJpEN4",
        "colab": {
          "base_uri": "https://localhost:8080/",
          "height": 136
        },
        "outputId": "19b64dbe-3c15-4b9c-e06a-ac0dc1cccbab"
      },
      "source": [
        "loss = ['hinge', 'log']\n",
        "penalty = ['l1', 'l2']\n",
        "alpha = [0.0001, 0.001]\n",
        "learning_rate = ['constant', 'optimal']\n",
        "class_weight = [{1:0.5, 0:0.5}, {1:0.4, 0:0.6}]\n",
        "eta0 = [1, 10]\n",
        "\n",
        "param_distributions = dict(loss=loss,\n",
        "                           penalty=penalty,\n",
        "                           alpha=alpha,\n",
        "                           learning_rate=learning_rate,\n",
        "                           class_weight=class_weight,\n",
        "                           eta0=eta0)\n",
        "\n",
        "random = RandomizedSearchCV(estimator=sgd, param_distributions=param_distributions, scoring='accuracy', verbose=1, n_jobs=-1, n_iter=1000)\n",
        "random_result = random.fit(X_train, y_train)\n",
        "\n",
        "print('Best Score: ', random_result.best_score_)\n",
        "print('Best Params: ', random_result.best_params_)"
      ],
      "execution_count": null,
      "outputs": [
        {
          "output_type": "stream",
          "text": [
            "Fitting 5 folds for each of 64 candidates, totalling 320 fits\n"
          ],
          "name": "stdout"
        },
        {
          "output_type": "stream",
          "text": [
            "[Parallel(n_jobs=-1)]: Using backend LokyBackend with 2 concurrent workers.\n",
            "[Parallel(n_jobs=-1)]: Done  46 tasks      | elapsed:   26.6s\n",
            "[Parallel(n_jobs=-1)]: Done 196 tasks      | elapsed:  1.8min\n",
            "[Parallel(n_jobs=-1)]: Done 320 out of 320 | elapsed:  2.8min finished\n"
          ],
          "name": "stderr"
        },
        {
          "output_type": "stream",
          "text": [
            "Best Score:  0.8702686437381679\n",
            "Best Params:  {'penalty': 'l2', 'loss': 'hinge', 'learning_rate': 'optimal', 'eta0': 1, 'class_weight': {1: 0.4, 0: 0.6}, 'alpha': 0.0001}\n"
          ],
          "name": "stdout"
        }
      ]
    },
    {
      "cell_type": "markdown",
      "metadata": {
        "colab_type": "text",
        "id": "T9x4XrAqQNQw"
      },
      "source": [
        "#Best Score:  0.6772044947639583\n",
        "#Best Params:  {'penalty': 'l1', 'loss': 'hinge', 'learning_rate': 'optimal', 'eta0': 1, 'class_weight': {1: 0.4, 0: 0.6}, 'alpha': 0.001}"
      ]
    },
    {
      "cell_type": "code",
      "metadata": {
        "_uuid": "4f2bde1a0b3435d15e849356ed93784d02b30011",
        "colab_type": "code",
        "id": "oyMeYkDDpEN7",
        "colab": {
          "base_uri": "https://localhost:8080/",
          "height": 85
        },
        "outputId": "e9eb3008-6003-4c9f-c75e-e588ea9c47a7"
      },
      "source": [
        "sgd = linear_model.SGDClassifier(alpha=0.001,\n",
        "                                 class_weight={1:0.4, 0:0.6},\n",
        "                                 eta0=1,\n",
        "                                 learning_rate='optimal',\n",
        "                                 loss='hinge',\n",
        "                                 penalty='l1')\n",
        "get_cv_scores(sgd)"
      ],
      "execution_count": null,
      "outputs": [
        {
          "output_type": "stream",
          "text": [
            "CV Mean:  0.8635457522695563\n",
            "STD:  0.0056329980922193825\n",
            "\n",
            "\n"
          ],
          "name": "stdout"
        }
      ]
    },
    {
      "cell_type": "code",
      "metadata": {
        "_uuid": "b6431fcc35280c4863804af277cee785dd7b046d",
        "colab_type": "code",
        "id": "-_1TIg-_pEN_",
        "colab": {
          "base_uri": "https://localhost:8080/",
          "height": 51
        },
        "outputId": "2d78a32d-6fcf-4345-c104-7ee3d42f39be"
      },
      "source": [
        "sgd.fit(X_train, y_train)\n",
        "\n",
        "y_train_pred = sgd.predict(X_train)\n",
        "accuracy_train = accuracy_score(y_train, y_train_pred)\n",
        "print(\"Accuracy: %.2f%%\" % (accuracy_train))\n",
        "\n",
        "\n",
        "y_test_pred = sgd.predict(X_test)\n",
        "accuracy_test = accuracy_score(y_test, y_test_pred)\n",
        "print(\"Accuracy: %.2f%%\" % (accuracy_test))"
      ],
      "execution_count": null,
      "outputs": [
        {
          "output_type": "stream",
          "text": [
            "Accuracy: 0.83%\n",
            "Accuracy: 0.83%\n"
          ],
          "name": "stdout"
        }
      ]
    },
    {
      "cell_type": "markdown",
      "metadata": {
        "id": "bWjy2o62blt9",
        "colab_type": "text"
      },
      "source": [
        "## Neural Networks On the Dataset "
      ]
    },
    {
      "cell_type": "code",
      "metadata": {
        "id": "UQXi54BRblt9",
        "colab_type": "code",
        "colab": {}
      },
      "source": [
        "from keras import models\n",
        "from keras import layers\n",
        "from keras.utils import to_categorical"
      ],
      "execution_count": null,
      "outputs": []
    },
    {
      "cell_type": "code",
      "metadata": {
        "id": "eXCR3m6Iblt_",
        "colab_type": "code",
        "colab": {
          "base_uri": "https://localhost:8080/",
          "height": 119
        },
        "outputId": "0e118d37-9864-46dd-aedf-825581f9a818"
      },
      "source": [
        "Y = to_categorical(Y)\n",
        "x_train, x_test, y_train, y_test = train_test_split(X, Y, test_size = 0.4)\n",
        "x_dev, x_test, y_dev, y_test = train_test_split(x_test, y_test, test_size = 0.5)\n",
        "# x_train = x_train.applymap(lambda x: np.log(x+1))\n",
        "# x_dev = x_dev.applymap(lambda x: np.log(x+1))\n",
        "# x_test = x_test.applymap(lambda x: np.log(x+1))\n",
        "\n",
        "print(x_train.shape)\n",
        "print(x_dev.shape)\n",
        "print(x_test.shape)\n",
        "print(y_train.shape)\n",
        "print(y_dev.shape)\n",
        "print(y_test.shape)"
      ],
      "execution_count": null,
      "outputs": [
        {
          "output_type": "stream",
          "text": [
            "(57898, 16)\n",
            "(19300, 16)\n",
            "(19300, 16)\n",
            "(57898, 6)\n",
            "(19300, 6)\n",
            "(19300, 6)\n"
          ],
          "name": "stdout"
        }
      ]
    },
    {
      "cell_type": "code",
      "metadata": {
        "id": "vT_cin_4bluB",
        "colab_type": "code",
        "colab": {}
      },
      "source": [
        "nn = models.Sequential()\n",
        "nn.add(layers.Dense(128, activation = 'tanh', input_shape = (16, )))\n",
        "nn.add(layers.Dense(64, activation = 'relu'))\n",
        "nn.add(layers.Dense(36))\n",
        "nn.add(layers.LeakyReLU(alpha = 0.01))\n",
        "nn.add(layers.Dense(6, activation = 'softmax'))\n",
        "nn.compile(optimizer = 'rmsprop', loss = 'categorical_crossentropy',\n",
        "           metrics = ['accuracy'])"
      ],
      "execution_count": null,
      "outputs": []
    },
    {
      "cell_type": "code",
      "metadata": {
        "id": "pLoym_-lbluD",
        "colab_type": "code",
        "colab": {
          "base_uri": "https://localhost:8080/",
          "height": 1000
        },
        "outputId": "fbf2e7eb-1269-40b6-a8f3-1f3e5afe0cf5"
      },
      "source": [
        "history = nn.fit(x_train, y_train, epochs = 30, validation_data=(x_dev, y_dev), batch_size = 10000)\n",
        "nn.evaluate(x_dev, y_dev)[1]"
      ],
      "execution_count": null,
      "outputs": [
        {
          "output_type": "stream",
          "text": [
            "Epoch 1/30\n",
            "6/6 [==============================] - 0s 10ms/step - loss: 0.5134 - accuracy: 0.8716 - val_loss: 0.5177 - val_accuracy: 0.8707\n",
            "Epoch 2/30\n",
            "6/6 [==============================] - 0s 7ms/step - loss: 0.5131 - accuracy: 0.8717 - val_loss: 0.5161 - val_accuracy: 0.8707\n",
            "Epoch 3/30\n",
            "6/6 [==============================] - 0s 7ms/step - loss: 0.5121 - accuracy: 0.8717 - val_loss: 0.5176 - val_accuracy: 0.8711\n",
            "Epoch 4/30\n",
            "6/6 [==============================] - 0s 7ms/step - loss: 0.5155 - accuracy: 0.8717 - val_loss: 0.5158 - val_accuracy: 0.8708\n",
            "Epoch 5/30\n",
            "6/6 [==============================] - 0s 7ms/step - loss: 0.5130 - accuracy: 0.8719 - val_loss: 0.5175 - val_accuracy: 0.8708\n",
            "Epoch 6/30\n",
            "6/6 [==============================] - 0s 7ms/step - loss: 0.5120 - accuracy: 0.8717 - val_loss: 0.5155 - val_accuracy: 0.8708\n",
            "Epoch 7/30\n",
            "6/6 [==============================] - 0s 7ms/step - loss: 0.5131 - accuracy: 0.8719 - val_loss: 0.5174 - val_accuracy: 0.8710\n",
            "Epoch 8/30\n",
            "6/6 [==============================] - 0s 7ms/step - loss: 0.5139 - accuracy: 0.8719 - val_loss: 0.5168 - val_accuracy: 0.8710\n",
            "Epoch 9/30\n",
            "6/6 [==============================] - 0s 6ms/step - loss: 0.5137 - accuracy: 0.8717 - val_loss: 0.5161 - val_accuracy: 0.8710\n",
            "Epoch 10/30\n",
            "6/6 [==============================] - 0s 7ms/step - loss: 0.5121 - accuracy: 0.8718 - val_loss: 0.5149 - val_accuracy: 0.8712\n",
            "Epoch 11/30\n",
            "6/6 [==============================] - 0s 7ms/step - loss: 0.5126 - accuracy: 0.8720 - val_loss: 0.5201 - val_accuracy: 0.8712\n",
            "Epoch 12/30\n",
            "6/6 [==============================] - 0s 7ms/step - loss: 0.5137 - accuracy: 0.8719 - val_loss: 0.5154 - val_accuracy: 0.8710\n",
            "Epoch 13/30\n",
            "6/6 [==============================] - 0s 8ms/step - loss: 0.5117 - accuracy: 0.8720 - val_loss: 0.5157 - val_accuracy: 0.8712\n",
            "Epoch 14/30\n",
            "6/6 [==============================] - 0s 7ms/step - loss: 0.5135 - accuracy: 0.8719 - val_loss: 0.5156 - val_accuracy: 0.8711\n",
            "Epoch 15/30\n",
            "6/6 [==============================] - 0s 8ms/step - loss: 0.5115 - accuracy: 0.8722 - val_loss: 0.5172 - val_accuracy: 0.8712\n",
            "Epoch 16/30\n",
            "6/6 [==============================] - 0s 7ms/step - loss: 0.5144 - accuracy: 0.8719 - val_loss: 0.5153 - val_accuracy: 0.8712\n",
            "Epoch 17/30\n",
            "6/6 [==============================] - 0s 7ms/step - loss: 0.5113 - accuracy: 0.8722 - val_loss: 0.5172 - val_accuracy: 0.8713\n",
            "Epoch 18/30\n",
            "6/6 [==============================] - 0s 7ms/step - loss: 0.5125 - accuracy: 0.8723 - val_loss: 0.5144 - val_accuracy: 0.8714\n",
            "Epoch 19/30\n",
            "6/6 [==============================] - 0s 7ms/step - loss: 0.5118 - accuracy: 0.8721 - val_loss: 0.5223 - val_accuracy: 0.8717\n",
            "Epoch 20/30\n",
            "6/6 [==============================] - 0s 7ms/step - loss: 0.5140 - accuracy: 0.8722 - val_loss: 0.5155 - val_accuracy: 0.8714\n",
            "Epoch 21/30\n",
            "6/6 [==============================] - 0s 7ms/step - loss: 0.5113 - accuracy: 0.8722 - val_loss: 0.5158 - val_accuracy: 0.8716\n",
            "Epoch 22/30\n",
            "6/6 [==============================] - 0s 7ms/step - loss: 0.5127 - accuracy: 0.8721 - val_loss: 0.5153 - val_accuracy: 0.8718\n",
            "Epoch 23/30\n",
            "6/6 [==============================] - 0s 7ms/step - loss: 0.5132 - accuracy: 0.8722 - val_loss: 0.5159 - val_accuracy: 0.8713\n",
            "Epoch 24/30\n",
            "6/6 [==============================] - 0s 7ms/step - loss: 0.5118 - accuracy: 0.8723 - val_loss: 0.5155 - val_accuracy: 0.8717\n",
            "Epoch 25/30\n",
            "6/6 [==============================] - 0s 7ms/step - loss: 0.5119 - accuracy: 0.8721 - val_loss: 0.5178 - val_accuracy: 0.8718\n",
            "Epoch 26/30\n",
            "6/6 [==============================] - 0s 7ms/step - loss: 0.5122 - accuracy: 0.8723 - val_loss: 0.5145 - val_accuracy: 0.8716\n",
            "Epoch 27/30\n",
            "6/6 [==============================] - 0s 7ms/step - loss: 0.5114 - accuracy: 0.8722 - val_loss: 0.5157 - val_accuracy: 0.8716\n",
            "Epoch 28/30\n",
            "6/6 [==============================] - 0s 7ms/step - loss: 0.5116 - accuracy: 0.8722 - val_loss: 0.5182 - val_accuracy: 0.8712\n",
            "Epoch 29/30\n",
            "6/6 [==============================] - 0s 7ms/step - loss: 0.5134 - accuracy: 0.8722 - val_loss: 0.5152 - val_accuracy: 0.8713\n",
            "Epoch 30/30\n",
            "6/6 [==============================] - 0s 6ms/step - loss: 0.5108 - accuracy: 0.8723 - val_loss: 0.5152 - val_accuracy: 0.8716\n",
            "604/604 [==============================] - 1s 2ms/step - loss: 0.5152 - accuracy: 0.8716\n"
          ],
          "name": "stdout"
        },
        {
          "output_type": "execute_result",
          "data": {
            "text/plain": [
              "0.8715543746948242"
            ]
          },
          "metadata": {
            "tags": []
          },
          "execution_count": 31
        }
      ]
    },
    {
      "cell_type": "code",
      "metadata": {
        "id": "Wudh8gLhbluF",
        "colab_type": "code",
        "colab": {
          "base_uri": "https://localhost:8080/",
          "height": 51
        },
        "outputId": "7eeb7678-3a07-4ab7-f38f-24a53324f28a"
      },
      "source": [
        "nn.evaluate(x_test, y_test)"
      ],
      "execution_count": null,
      "outputs": [
        {
          "output_type": "stream",
          "text": [
            "604/604 [==============================] - 1s 2ms/step - loss: 0.5237 - accuracy: 0.8689\n"
          ],
          "name": "stdout"
        },
        {
          "output_type": "execute_result",
          "data": {
            "text/plain": [
              "[0.5236643552780151, 0.868860125541687]"
            ]
          },
          "metadata": {
            "tags": []
          },
          "execution_count": 32
        }
      ]
    },
    {
      "cell_type": "code",
      "metadata": {
        "id": "m_njP5qDbluL",
        "colab_type": "code",
        "colab": {
          "base_uri": "https://localhost:8080/",
          "height": 927
        },
        "outputId": "d9c42163-6751-4d5b-b932-12eb03599046"
      },
      "source": [
        "import matplotlib.pyplot as plt\n",
        "# Plot training & validation accuracy values\n",
        "plt.plot(history.history['accuracy'], color = 'red')\n",
        "plt.plot(history.history['val_accuracy'], color = 'blue')\n",
        "plt.title('Model accuracy')\n",
        "plt.ylabel('Accuracy')\n",
        "plt.xlabel('Epoch')\n",
        "plt.legend(['Train', 'Validation'], loc='upper left')\n",
        "plt.show()\n",
        "\n",
        "# Plot training & validation loss values\n",
        "plt.plot(history.history['loss'], color = 'red')\n",
        "plt.plot(history.history['val_loss'], color = 'blue')\n",
        "plt.title('Model loss')\n",
        "plt.ylabel('Loss')\n",
        "plt.xlabel('Epoch')\n",
        "plt.legend(['Train', 'Validation'], loc='upper left')\n",
        "plt.show()"
      ],
      "execution_count": null,
      "outputs": [
        {
          "output_type": "display_data",
          "data": {
            "image/png": "[encoded data removed]",
            "text/plain": [
              "<Figure size 1440x504 with 1 Axes>"
            ]
          },
          "metadata": {
            "tags": []
          }
        },
        {
          "output_type": "display_data",
          "data": {
            "image/png": "[encoded data removed]",
            "text/plain": [
              "<Figure size 1440x504 with 1 Axes>"
            ]
          },
          "metadata": {
            "tags": []
          }
        }
      ]
    }
  ]
}