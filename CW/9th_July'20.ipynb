{
  "nbformat": 4,
  "nbformat_minor": 0,
  "metadata": {
    "colab": {
      "name": "9th July'20.ipynb",
      "provenance": [],
      "private_outputs": true,
      "include_colab_link": true
    },
    "kernelspec": {
      "name": "python3",
      "display_name": "Python 3"
    }
  },
  "cells": [
    {
      "cell_type": "markdown",
      "metadata": {
        "id": "view-in-github",
        "colab_type": "text"
      },
      "source": [
        "<a href=\"https://colab.research.google.com/github/kartikayladdha/ML/blob/master/CW/9th_July'20.ipynb\" target=\"_parent\"><img src=\"https://colab.research.google.com/assets/colab-badge.svg\" alt=\"Open In Colab\"/></a>"
      ]
    },
    {
      "cell_type": "code",
      "metadata": {
        "id": "eB69EofuoPD2",
        "colab_type": "code",
        "colab": {}
      },
      "source": [
        "#check python version\n",
        "\n",
        "import sys\n",
        "print(sys.version)"
      ],
      "execution_count": null,
      "outputs": []
    },
    {
      "cell_type": "code",
      "metadata": {
        "id": "LiJQZO4uuily",
        "colab_type": "code",
        "colab": {}
      },
      "source": [
        "#data type\n",
        "\n",
        "type(12)"
      ],
      "execution_count": null,
      "outputs": []
    },
    {
      "cell_type": "code",
      "metadata": {
        "id": "syeUDPBFuwhA",
        "colab_type": "code",
        "colab": {}
      },
      "source": [
        "type(12.4)"
      ],
      "execution_count": null,
      "outputs": []
    },
    {
      "cell_type": "code",
      "metadata": {
        "id": "07hiBZ6tu2F5",
        "colab_type": "code",
        "colab": {}
      },
      "source": [
        "type(\"hi\")"
      ],
      "execution_count": null,
      "outputs": []
    },
    {
      "cell_type": "code",
      "metadata": {
        "id": "8rI74MqCu9hv",
        "colab_type": "code",
        "colab": {}
      },
      "source": [
        "int('1')"
      ],
      "execution_count": null,
      "outputs": []
    },
    {
      "cell_type": "code",
      "metadata": {
        "id": "1VGmokntvBi9",
        "colab_type": "code",
        "colab": {}
      },
      "source": [
        "float('1.2')"
      ],
      "execution_count": null,
      "outputs": []
    },
    {
      "cell_type": "code",
      "metadata": {
        "id": "1oTjPAoqvKAt",
        "colab_type": "code",
        "colab": {}
      },
      "source": [
        "bool(1)"
      ],
      "execution_count": null,
      "outputs": []
    },
    {
      "cell_type": "code",
      "metadata": {
        "id": "fRApl8cswS4W",
        "colab_type": "code",
        "colab": {}
      },
      "source": [
        "int(False)"
      ],
      "execution_count": null,
      "outputs": []
    },
    {
      "cell_type": "code",
      "metadata": {
        "id": "0d-ILusbwV40",
        "colab_type": "code",
        "colab": {}
      },
      "source": [
        "type(6//2)"
      ],
      "execution_count": null,
      "outputs": []
    },
    {
      "cell_type": "code",
      "metadata": {
        "id": "LGwAyZ_-waOb",
        "colab_type": "code",
        "colab": {}
      },
      "source": [
        "\"Hello world\""
      ],
      "execution_count": null,
      "outputs": []
    },
    {
      "cell_type": "code",
      "metadata": {
        "id": "KCv_sT3fwpmW",
        "colab_type": "code",
        "colab": {}
      },
      "source": [
        "'Helloworld'"
      ],
      "execution_count": null,
      "outputs": []
    },
    {
      "cell_type": "code",
      "metadata": {
        "id": "DZgbjKwswrtz",
        "colab_type": "code",
        "colab": {}
      },
      "source": [
        "name = \"Hellowold\""
      ],
      "execution_count": null,
      "outputs": []
    },
    {
      "cell_type": "code",
      "metadata": {
        "id": "X-L2CiJzw8_O",
        "colab_type": "code",
        "colab": {}
      },
      "source": [
        "name"
      ],
      "execution_count": null,
      "outputs": []
    },
    {
      "cell_type": "code",
      "metadata": {
        "id": "4j08VZcFw-HS",
        "colab_type": "code",
        "colab": {}
      },
      "source": [
        "print(name[0])"
      ],
      "execution_count": null,
      "outputs": []
    },
    {
      "cell_type": "code",
      "metadata": {
        "id": "LPdlecbOxBzS",
        "colab_type": "code",
        "colab": {}
      },
      "source": [
        "print(name[-1])"
      ],
      "execution_count": null,
      "outputs": []
    },
    {
      "cell_type": "code",
      "metadata": {
        "id": "ypAjKq7TxPkK",
        "colab_type": "code",
        "colab": {}
      },
      "source": [
        "len(name)"
      ],
      "execution_count": null,
      "outputs": []
    },
    {
      "cell_type": "code",
      "metadata": {
        "id": "3QsG0YxpxSg-",
        "colab_type": "code",
        "colab": {}
      },
      "source": [
        "#from index 0 to 3 of variable name - helloworld\n",
        "print(name[0:4])"
      ],
      "execution_count": null,
      "outputs": []
    },
    {
      "cell_type": "code",
      "metadata": {
        "id": "FAa4sRUnyPRR",
        "colab_type": "code",
        "colab": {}
      },
      "source": [
        "print(name)"
      ],
      "execution_count": null,
      "outputs": []
    },
    {
      "cell_type": "code",
      "metadata": {
        "id": "F-gMUOoUxaGN",
        "colab_type": "code",
        "colab": {}
      },
      "source": [
        "#skip and display every second element\n",
        "print(name[::2])"
      ],
      "execution_count": null,
      "outputs": []
    },
    {
      "cell_type": "code",
      "metadata": {
        "id": "TUBCdDeZxrgg",
        "colab_type": "code",
        "colab": {}
      },
      "source": [
        "#in range 0 to 8 i.e. element 0 to 7 skip every second\n",
        "print(name[0:8:2])"
      ],
      "execution_count": null,
      "outputs": []
    },
    {
      "cell_type": "code",
      "metadata": {
        "id": "Gx1uZj_qx4b-",
        "colab_type": "code",
        "colab": {}
      },
      "source": [
        "ans = name "
      ],
      "execution_count": null,
      "outputs": []
    },
    {
      "cell_type": "code",
      "metadata": {
        "id": "pciN74A5yoDF",
        "colab_type": "code",
        "colab": {}
      },
      "source": [
        "#add new line escape sequence into string and add tab escape sequence into string"
      ],
      "execution_count": null,
      "outputs": []
    },
    {
      "cell_type": "code",
      "metadata": {
        "id": "Lnr4UrwCzb-B",
        "colab_type": "code",
        "colab": {}
      },
      "source": [
        "#convert to uppercase and lower case"
      ],
      "execution_count": null,
      "outputs": []
    },
    {
      "cell_type": "code",
      "metadata": {
        "id": "fBOyRx55zhKs",
        "colab_type": "code",
        "colab": {}
      },
      "source": [
        "#replace all 'x' with 'y' in striing \n",
        "#find element in string"
      ],
      "execution_count": null,
      "outputs": []
    },
    {
      "cell_type": "code",
      "metadata": {
        "id": "urxFZ7M1zpIe",
        "colab_type": "code",
        "colab": {}
      },
      "source": [
        "#create a tuple\n",
        "#print first tuple elemt\n",
        "#concat tuples\n",
        "#get slice of tuple\n",
        "#get length of tuple\n",
        "#sort tuple\n",
        "#create nested tuple\n",
        "#access elemnt of nested tuples\n",
        "#create list\n",
        "#print by index and negative index\n",
        "##add string to list, nest tuples in it, \n",
        "#extend nad append on list\n",
        "#delete element on index\n",
        "#split string to list\n",
        "#split string to list by separator\n",
        "#copy by reference \n",
        "#list cloning\n",
        "#create dict\n",
        "#access value by dict\n",
        "#sets\n",
        "#functions\n",
        "#loops\n",
        "#functions\n",
        "#"
      ],
      "execution_count": null,
      "outputs": []
    },
    {
      "cell_type": "code",
      "metadata": {
        "id": "unGHkNgU1ydo",
        "colab_type": "code",
        "colab": {}
      },
      "source": [
        "import numpy as np"
      ],
      "execution_count": null,
      "outputs": []
    },
    {
      "cell_type": "code",
      "metadata": {
        "id": "pZUair0c14AB",
        "colab_type": "code",
        "colab": {}
      },
      "source": [
        "a = np.array([0,1,1,2])"
      ],
      "execution_count": null,
      "outputs": []
    },
    {
      "cell_type": "code",
      "metadata": {
        "id": "qwjpwayp18pu",
        "colab_type": "code",
        "colab": {}
      },
      "source": [
        "a"
      ],
      "execution_count": null,
      "outputs": []
    },
    {
      "cell_type": "code",
      "metadata": {
        "id": "3pge6Bix19Um",
        "colab_type": "code",
        "colab": {}
      },
      "source": [
        "#1-d numpy array\n",
        "print(a[0])"
      ],
      "execution_count": null,
      "outputs": []
    },
    {
      "cell_type": "code",
      "metadata": {
        "id": "j7rkD_zb2EID",
        "colab_type": "code",
        "colab": {}
      },
      "source": [
        "print(a[1])"
      ],
      "execution_count": null,
      "outputs": []
    },
    {
      "cell_type": "code",
      "metadata": {
        "id": "8Xfblzwo2FmE",
        "colab_type": "code",
        "colab": {}
      },
      "source": [
        "type(a)"
      ],
      "execution_count": null,
      "outputs": []
    },
    {
      "cell_type": "code",
      "metadata": {
        "id": "5DzOJlQ92IDt",
        "colab_type": "code",
        "colab": {}
      },
      "source": [
        "a.dtype"
      ],
      "execution_count": null,
      "outputs": []
    },
    {
      "cell_type": "code",
      "metadata": {
        "id": "Ty6LkySB2LC0",
        "colab_type": "code",
        "colab": {}
      },
      "source": [
        "b = np.array([3.1,1.2,3.2])"
      ],
      "execution_count": null,
      "outputs": []
    },
    {
      "cell_type": "code",
      "metadata": {
        "id": "xx5kblF12PuB",
        "colab_type": "code",
        "colab": {}
      },
      "source": [
        "type(b)"
      ],
      "execution_count": null,
      "outputs": []
    },
    {
      "cell_type": "code",
      "metadata": {
        "id": "tTh2JE6F2Rp1",
        "colab_type": "code",
        "colab": {}
      },
      "source": [
        "b.dtype"
      ],
      "execution_count": null,
      "outputs": []
    },
    {
      "cell_type": "code",
      "metadata": {
        "id": "zvP1-s182TVk",
        "colab_type": "code",
        "colab": {}
      },
      "source": [
        "a[0]=100"
      ],
      "execution_count": null,
      "outputs": []
    },
    {
      "cell_type": "code",
      "metadata": {
        "id": "KgqDchps2Y_8",
        "colab_type": "code",
        "colab": {}
      },
      "source": [
        "print(a[0])"
      ],
      "execution_count": null,
      "outputs": []
    },
    {
      "cell_type": "code",
      "metadata": {
        "id": "LGHPVYEb2fAl",
        "colab_type": "code",
        "colab": {}
      },
      "source": [
        "#slice the numpy 1-d array from index 0 to index 1\n",
        "a[0:2]\n",
        "\n"
      ],
      "execution_count": null,
      "outputs": []
    },
    {
      "cell_type": "code",
      "metadata": {
        "id": "KCeCFyyN21rg",
        "colab_type": "code",
        "colab": {}
      },
      "source": [
        "#set elements at multiple places together\n",
        "a[0:2]=1,2"
      ],
      "execution_count": null,
      "outputs": []
    },
    {
      "cell_type": "code",
      "metadata": {
        "id": "j6yb_AhB24MZ",
        "colab_type": "code",
        "colab": {}
      },
      "source": [
        "a"
      ],
      "execution_count": null,
      "outputs": []
    },
    {
      "cell_type": "code",
      "metadata": {
        "id": "pY0va4JL3APf",
        "colab_type": "code",
        "colab": {}
      },
      "source": [
        "#select multiple elements and assign them to new varaibles\n",
        "select = [0,1,2]\n",
        "d = a[select]"
      ],
      "execution_count": null,
      "outputs": []
    },
    {
      "cell_type": "code",
      "metadata": {
        "id": "ElUX2PZe3EaT",
        "colab_type": "code",
        "colab": {}
      },
      "source": [
        "d"
      ],
      "execution_count": null,
      "outputs": []
    },
    {
      "cell_type": "code",
      "metadata": {
        "id": "jHPbUVFt3FPq",
        "colab_type": "code",
        "colab": {}
      },
      "source": [
        "#assign multiple elements new values\n",
        "select = [0,1,2]\n",
        "a[select]=100"
      ],
      "execution_count": null,
      "outputs": []
    },
    {
      "cell_type": "code",
      "metadata": {
        "id": "msn0pT6u3QXv",
        "colab_type": "code",
        "colab": {}
      },
      "source": [
        "a"
      ],
      "execution_count": null,
      "outputs": []
    },
    {
      "cell_type": "code",
      "metadata": {
        "id": "DUi-mMaz3gdr",
        "colab_type": "code",
        "colab": {}
      },
      "source": [
        "a.size"
      ],
      "execution_count": null,
      "outputs": []
    },
    {
      "cell_type": "code",
      "metadata": {
        "id": "lbMfn9xJ3j5C",
        "colab_type": "code",
        "colab": {}
      },
      "source": [
        "a.ndim"
      ],
      "execution_count": null,
      "outputs": []
    },
    {
      "cell_type": "code",
      "metadata": {
        "id": "DmsbL6lA3l5u",
        "colab_type": "code",
        "colab": {}
      },
      "source": [
        "a.shape"
      ],
      "execution_count": null,
      "outputs": []
    },
    {
      "cell_type": "code",
      "metadata": {
        "id": "kEqS0ENk3vGn",
        "colab_type": "code",
        "colab": {}
      },
      "source": [
        "mean = a.mean()"
      ],
      "execution_count": null,
      "outputs": []
    },
    {
      "cell_type": "code",
      "metadata": {
        "id": "ecdv3l8035PA",
        "colab_type": "code",
        "colab": {}
      },
      "source": [
        "mean"
      ],
      "execution_count": null,
      "outputs": []
    },
    {
      "cell_type": "code",
      "metadata": {
        "id": "N-epkgFc36CO",
        "colab_type": "code",
        "colab": {}
      },
      "source": [
        "stdev = a.std()"
      ],
      "execution_count": null,
      "outputs": []
    },
    {
      "cell_type": "code",
      "metadata": {
        "id": "KRgYbyZ239FF",
        "colab_type": "code",
        "colab": {}
      },
      "source": [
        "stdev"
      ],
      "execution_count": null,
      "outputs": []
    },
    {
      "cell_type": "code",
      "metadata": {
        "id": "eP3y1-p63-AL",
        "colab_type": "code",
        "colab": {}
      },
      "source": [
        "max_element = a.max()"
      ],
      "execution_count": null,
      "outputs": []
    },
    {
      "cell_type": "code",
      "metadata": {
        "id": "mbqbu5OI4EJ0",
        "colab_type": "code",
        "colab": {}
      },
      "source": [
        "max_element"
      ],
      "execution_count": null,
      "outputs": []
    },
    {
      "cell_type": "code",
      "metadata": {
        "id": "slByY_3P4KVB",
        "colab_type": "code",
        "colab": {}
      },
      "source": [
        "min_element =  a.min()"
      ],
      "execution_count": null,
      "outputs": []
    },
    {
      "cell_type": "code",
      "metadata": {
        "id": "6l4vkMUB4NGt",
        "colab_type": "code",
        "colab": {}
      },
      "source": [
        "min_element"
      ],
      "execution_count": null,
      "outputs": []
    },
    {
      "cell_type": "code",
      "metadata": {
        "id": "AoyMKV134TGS",
        "colab_type": "code",
        "colab": {}
      },
      "source": [
        "u = np.array([1,0])\n",
        "v = np.array([2,2])\n",
        "print(u)\n",
        "print(v)"
      ],
      "execution_count": null,
      "outputs": []
    },
    {
      "cell_type": "code",
      "metadata": {
        "id": "Kf6w0zEd4mvJ",
        "colab_type": "code",
        "colab": {}
      },
      "source": [
        "z = u+v\n",
        "z"
      ],
      "execution_count": null,
      "outputs": []
    },
    {
      "cell_type": "code",
      "metadata": {
        "id": "VwuUTyaL4s0X",
        "colab_type": "code",
        "colab": {}
      },
      "source": [
        "plotvec(u,z,v)"
      ],
      "execution_count": null,
      "outputs": []
    },
    {
      "cell_type": "code",
      "metadata": {
        "id": "-6H2h8MJ4zBh",
        "colab_type": "code",
        "colab": {}
      },
      "source": [
        "y = np.array([1,2])\n",
        "y"
      ],
      "execution_count": null,
      "outputs": []
    },
    {
      "cell_type": "code",
      "metadata": {
        "id": "QMjBkvzv5Azm",
        "colab_type": "code",
        "colab": {}
      },
      "source": [
        "#multiply the numpy array with a scalar\n",
        "z = 2 * y"
      ],
      "execution_count": null,
      "outputs": []
    },
    {
      "cell_type": "code",
      "metadata": {
        "id": "OK8Fykw65FLX",
        "colab_type": "code",
        "colab": {}
      },
      "source": [
        "z"
      ],
      "execution_count": null,
      "outputs": []
    },
    {
      "cell_type": "code",
      "metadata": {
        "id": "78aPH4f15JpX",
        "colab_type": "code",
        "colab": {}
      },
      "source": [
        "z = u * v"
      ],
      "execution_count": null,
      "outputs": []
    },
    {
      "cell_type": "code",
      "metadata": {
        "id": "nmjmqxfS5Vcu",
        "colab_type": "code",
        "colab": {}
      },
      "source": [
        "print(u)\n",
        "print(v)\n",
        "z"
      ],
      "execution_count": null,
      "outputs": []
    },
    {
      "cell_type": "code",
      "metadata": {
        "id": "Vz8QujcP5WFp",
        "colab_type": "code",
        "colab": {}
      },
      "source": [
        "#calculating the dot product of two numpy 1d arrays.\n",
        "np.dot(u,v)"
      ],
      "execution_count": null,
      "outputs": []
    },
    {
      "cell_type": "code",
      "metadata": {
        "id": "oz-sZQ7v5q63",
        "colab_type": "code",
        "colab": {}
      },
      "source": [
        "sample = np.array([1,2,3,4,5])"
      ],
      "execution_count": null,
      "outputs": []
    },
    {
      "cell_type": "code",
      "metadata": {
        "id": "aNe8YCr25uS8",
        "colab_type": "code",
        "colab": {}
      },
      "source": [
        "sample + 1"
      ],
      "execution_count": null,
      "outputs": []
    },
    {
      "cell_type": "code",
      "metadata": {
        "id": "bmO3WWwb5wDp",
        "colab_type": "code",
        "colab": {}
      },
      "source": [
        "np.pi"
      ],
      "execution_count": null,
      "outputs": []
    },
    {
      "cell_type": "code",
      "metadata": {
        "id": "i2L6-Huu5zgh",
        "colab_type": "code",
        "colab": {}
      },
      "source": [
        "x = np.array([0, np.pi/2, np.pi])"
      ],
      "execution_count": null,
      "outputs": []
    },
    {
      "cell_type": "code",
      "metadata": {
        "id": "dZIaBEkY57oi",
        "colab_type": "code",
        "colab": {}
      },
      "source": [
        "x"
      ],
      "execution_count": null,
      "outputs": []
    },
    {
      "cell_type": "code",
      "metadata": {
        "id": "nPmHggnJ58Xe",
        "colab_type": "code",
        "colab": {}
      },
      "source": [
        "y = np.sin(x)"
      ],
      "execution_count": null,
      "outputs": []
    },
    {
      "cell_type": "code",
      "metadata": {
        "id": "ZSw83yKY6Cik",
        "colab_type": "code",
        "colab": {}
      },
      "source": [
        "y"
      ],
      "execution_count": null,
      "outputs": []
    },
    {
      "cell_type": "code",
      "metadata": {
        "id": "5PdqXmW-6DML",
        "colab_type": "code",
        "colab": {}
      },
      "source": [
        "#binning operation\n",
        "np.linspace(-2,2,num=5)"
      ],
      "execution_count": null,
      "outputs": []
    },
    {
      "cell_type": "code",
      "metadata": {
        "id": "r-DCmWwE6VTP",
        "colab_type": "code",
        "colab": {}
      },
      "source": [
        "np.linspace(0,2*np.pi, num=10)"
      ],
      "execution_count": null,
      "outputs": []
    },
    {
      "cell_type": "code",
      "metadata": {
        "id": "FmEtu3yj6o7H",
        "colab_type": "code",
        "colab": {}
      },
      "source": [
        "import matplotlib.pyplot as plt\n"
      ],
      "execution_count": null,
      "outputs": []
    },
    {
      "cell_type": "code",
      "metadata": {
        "id": "T_PWaw-F65TX",
        "colab_type": "code",
        "colab": {}
      },
      "source": [
        "a = [[1,2,3], [2,2,2], [3,3,3]]\n",
        "sample = np.array(a)"
      ],
      "execution_count": null,
      "outputs": []
    },
    {
      "cell_type": "code",
      "metadata": {
        "id": "U6yyZev67Cnj",
        "colab_type": "code",
        "colab": {}
      },
      "source": [
        "sample.ndim\n",
        "sample.shape\n",
        "sample.size"
      ],
      "execution_count": null,
      "outputs": []
    },
    {
      "cell_type": "code",
      "metadata": {
        "id": "-DmqDPMM7b3W",
        "colab_type": "code",
        "colab": {}
      },
      "source": [
        "sample[1][0:3]"
      ],
      "execution_count": null,
      "outputs": []
    },
    {
      "cell_type": "code",
      "metadata": {
        "id": "gJf-kdn07UjD",
        "colab_type": "code",
        "colab": {}
      },
      "source": [
        "sample.T"
      ],
      "execution_count": null,
      "outputs": []
    },
    {
      "cell_type": "code",
      "metadata": {
        "id": "7tu96TG47eIM",
        "colab_type": "code",
        "colab": {}
      },
      "source": [
        "sample[1][2]"
      ],
      "execution_count": null,
      "outputs": []
    },
    {
      "cell_type": "code",
      "metadata": {
        "id": "7-_dUsuD7mTe",
        "colab_type": "code",
        "colab": {}
      },
      "source": [
        "sample"
      ],
      "execution_count": null,
      "outputs": []
    },
    {
      "cell_type": "code",
      "metadata": {
        "id": "qKOxhvJk8N9n",
        "colab_type": "code",
        "colab": {}
      },
      "source": [
        "!wget -O \"filloc/filename\" url"
      ],
      "execution_count": null,
      "outputs": []
    }
  ]
}